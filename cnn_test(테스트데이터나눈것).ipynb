{
  "cells": [
    {
      "cell_type": "code",
      "execution_count": null,
      "metadata": {
        "id": "nOuU_Zn-R3aY"
      },
      "outputs": [],
      "source": [
        "import os\n",
        "\n",
        "os.mkdir('향수')"
      ]
    },
    {
      "cell_type": "code",
      "execution_count": null,
      "metadata": {
        "colab": {
          "base_uri": "https://localhost:8080/"
        },
        "id": "TF0a0V4oSthG",
        "outputId": "9307b3eb-f7b7-439a-ecc4-c886684f24fb"
      },
      "outputs": [
        {
          "output_type": "stream",
          "name": "stdout",
          "text": [
            "/content\n"
          ]
        }
      ],
      "source": [
        "path = os.getcwd()\n",
        "\n",
        "print(path)\n"
      ]
    },
    {
      "cell_type": "code",
      "execution_count": null,
      "metadata": {
        "colab": {
          "base_uri": "https://localhost:8080/"
        },
        "id": "g5lwxKCKS0YP",
        "outputId": "96d0ef5f-50e0-4b66-8e45-102e316caa7c"
      },
      "outputs": [
        {
          "output_type": "stream",
          "name": "stdout",
          "text": [
            "/content/향수\n"
          ]
        }
      ],
      "source": [
        "os.chdir(f\"{path}\" + \"/향수\")\n",
        "\n",
        "path2 = os.getcwd()\n",
        "print(path2)"
      ]
    },
    {
      "cell_type": "code",
      "execution_count": null,
      "metadata": {
        "colab": {
          "base_uri": "https://localhost:8080/"
        },
        "id": "bQH0g0HuTOMd",
        "outputId": "43376109-95af-4dc4-c4bc-f1cb36bc3f41"
      },
      "outputs": [
        {
          "output_type": "stream",
          "name": "stdout",
          "text": [
            "Archive:  향수_노중복.zip\n",
            "   creating: 딥디크_도손/\n",
            "  inflating: 딥디크_도손/딥디크_도손_1.jpg  \n",
            "  inflating: 딥디크_도손/딥디크_도손_10.jpg  \n",
            "  inflating: 딥디크_도손/딥디크_도손_12.jpg  \n",
            "  inflating: 딥디크_도손/딥디크_도손_13.jpg  \n",
            "  inflating: 딥디크_도손/딥디크_도손_14.jpg  \n",
            "  inflating: 딥디크_도손/딥디크_도손_15.jpg  \n",
            "  inflating: 딥디크_도손/딥디크_도손_16.jpg  \n",
            "  inflating: 딥디크_도손/딥디크_도손_17.jpg  \n",
            "  inflating: 딥디크_도손/딥디크_도손_18.jpg  \n",
            "  inflating: 딥디크_도손/딥디크_도손_19.jpg  \n",
            "  inflating: 딥디크_도손/딥디크_도손_2.jpg  \n",
            "  inflating: 딥디크_도손/딥디크_도손_20.jpg  \n",
            "  inflating: 딥디크_도손/딥디크_도손_21.jpg  \n",
            "  inflating: 딥디크_도손/딥디크_도손_23.jpg  \n",
            "  inflating: 딥디크_도손/딥디크_도손_24.jpg  \n",
            "  inflating: 딥디크_도손/딥디크_도손_25.jpg  \n",
            "  inflating: 딥디크_도손/딥디크_도손_27.jpg  \n",
            "  inflating: 딥디크_도손/딥디크_도손_28.jpg  \n",
            "  inflating: 딥디크_도손/딥디크_도손_29.jpg  \n",
            "  inflating: 딥디크_도손/딥디크_도손_3.jpg  \n",
            "  inflating: 딥디크_도손/딥디크_도손_30.jpg  \n",
            "  inflating: 딥디크_도손/딥디크_도손_31.jpg  \n",
            "  inflating: 딥디크_도손/딥디크_도손_32.jpg  \n",
            "  inflating: 딥디크_도손/딥디크_도손_33.jpg  \n",
            "  inflating: 딥디크_도손/딥디크_도손_34.jpg  \n",
            "  inflating: 딥디크_도손/딥디크_도손_35.jpg  \n",
            "  inflating: 딥디크_도손/딥디크_도손_36.jpg  \n",
            "  inflating: 딥디크_도손/딥디크_도손_37.jpg  \n",
            "  inflating: 딥디크_도손/딥디크_도손_38.jpg  \n",
            "  inflating: 딥디크_도손/딥디크_도손_39.jpg  \n",
            "  inflating: 딥디크_도손/딥디크_도손_4.jpg  \n",
            "  inflating: 딥디크_도손/딥디크_도손_40.jpg  \n",
            "  inflating: 딥디크_도손/딥디크_도손_41.jpg  \n",
            "  inflating: 딥디크_도손/딥디크_도손_42.jpg  \n",
            "  inflating: 딥디크_도손/딥디크_도손_43.jpg  \n",
            "  inflating: 딥디크_도손/딥디크_도손_44.jpg  \n",
            "  inflating: 딥디크_도손/딥디크_도손_45.jpg  \n",
            "  inflating: 딥디크_도손/딥디크_도손_46.jpg  \n",
            "  inflating: 딥디크_도손/딥디크_도손_47.jpg  \n",
            "  inflating: 딥디크_도손/딥디크_도손_48.jpg  \n",
            "  inflating: 딥디크_도손/딥디크_도손_49.jpg  \n",
            "  inflating: 딥디크_도손/딥디크_도손_5.jpg  \n",
            "  inflating: 딥디크_도손/딥디크_도손_50.jpg  \n",
            "  inflating: 딥디크_도손/딥디크_도손_51.jpg  \n",
            "  inflating: 딥디크_도손/딥디크_도손_52.jpg  \n",
            "  inflating: 딥디크_도손/딥디크_도손_53.jpg  \n",
            "  inflating: 딥디크_도손/딥디크_도손_54.jpg  \n",
            "  inflating: 딥디크_도손/딥디크_도손_55.jpg  \n",
            "  inflating: 딥디크_도손/딥디크_도손_56.jpg  \n",
            "  inflating: 딥디크_도손/딥디크_도손_58.jpg  \n",
            "  inflating: 딥디크_도손/딥디크_도손_59.jpg  \n",
            "  inflating: 딥디크_도손/딥디크_도손_6.jpg  \n",
            "  inflating: 딥디크_도손/딥디크_도손_7.jpg  \n",
            "  inflating: 딥디크_도손/딥디크_도손_8.jpg  \n",
            "  inflating: 딥디크_도손/딥디크_도손_9.jpg  \n",
            "   creating: 르라보_상탈/\n",
            "  inflating: 르라보_상탈/르라보_상탈_1.jpg  \n",
            "  inflating: 르라보_상탈/르라보_상탈_10.jpg  \n",
            "  inflating: 르라보_상탈/르라보_상탈_11.jpg  \n",
            "  inflating: 르라보_상탈/르라보_상탈_12.jpg  \n",
            "  inflating: 르라보_상탈/르라보_상탈_13.jpg  \n",
            "  inflating: 르라보_상탈/르라보_상탈_14.jpg  \n",
            "  inflating: 르라보_상탈/르라보_상탈_15.jpg  \n",
            "  inflating: 르라보_상탈/르라보_상탈_16.jpg  \n",
            "  inflating: 르라보_상탈/르라보_상탈_17.jpg  \n",
            "  inflating: 르라보_상탈/르라보_상탈_18.jpg  \n",
            "  inflating: 르라보_상탈/르라보_상탈_19.jpg  \n",
            "  inflating: 르라보_상탈/르라보_상탈_2.jpg  \n",
            "  inflating: 르라보_상탈/르라보_상탈_20.jpg  \n",
            "  inflating: 르라보_상탈/르라보_상탈_21.jpg  \n",
            "  inflating: 르라보_상탈/르라보_상탈_23.jpg  \n",
            "  inflating: 르라보_상탈/르라보_상탈_24.jpg  \n",
            "  inflating: 르라보_상탈/르라보_상탈_25.jpg  \n",
            "  inflating: 르라보_상탈/르라보_상탈_26.jpg  \n",
            "  inflating: 르라보_상탈/르라보_상탈_27.jpg  \n",
            "  inflating: 르라보_상탈/르라보_상탈_28.jpg  \n",
            "  inflating: 르라보_상탈/르라보_상탈_29.jpg  \n",
            "  inflating: 르라보_상탈/르라보_상탈_3.jpg  \n",
            "  inflating: 르라보_상탈/르라보_상탈_30.jpg  \n",
            "  inflating: 르라보_상탈/르라보_상탈_31.jpg  \n",
            "  inflating: 르라보_상탈/르라보_상탈_32.jpg  \n",
            "  inflating: 르라보_상탈/르라보_상탈_33.jpg  \n",
            "  inflating: 르라보_상탈/르라보_상탈_35.jpg  \n",
            "  inflating: 르라보_상탈/르라보_상탈_36.jpg  \n",
            "  inflating: 르라보_상탈/르라보_상탈_37.jpg  \n",
            "  inflating: 르라보_상탈/르라보_상탈_38.jpg  \n",
            "  inflating: 르라보_상탈/르라보_상탈_39.jpg  \n",
            "  inflating: 르라보_상탈/르라보_상탈_4.jpg  \n",
            "  inflating: 르라보_상탈/르라보_상탈_40.jpg  \n",
            "  inflating: 르라보_상탈/르라보_상탈_42.jpg  \n",
            "  inflating: 르라보_상탈/르라보_상탈_45.jpg  \n",
            "  inflating: 르라보_상탈/르라보_상탈_46.jpg  \n",
            "  inflating: 르라보_상탈/르라보_상탈_47.jpg  \n",
            "  inflating: 르라보_상탈/르라보_상탈_48.jpg  \n",
            "  inflating: 르라보_상탈/르라보_상탈_5.jpg  \n",
            "  inflating: 르라보_상탈/르라보_상탈_51.jpg  \n",
            "  inflating: 르라보_상탈/르라보_상탈_52.jpg  \n",
            "  inflating: 르라보_상탈/르라보_상탈_53.jpg  \n",
            "  inflating: 르라보_상탈/르라보_상탈_54.jpg  \n",
            "  inflating: 르라보_상탈/르라보_상탈_56.jpg  \n",
            "  inflating: 르라보_상탈/르라보_상탈_57.jpg  \n",
            "  inflating: 르라보_상탈/르라보_상탈_58.jpg  \n",
            "  inflating: 르라보_상탈/르라보_상탈_6.jpg  \n",
            "  inflating: 르라보_상탈/르라보_상탈_60.jpg  \n",
            "  inflating: 르라보_상탈/르라보_상탈_7.jpg  \n",
            "  inflating: 르라보_상탈/르라보_상탈_8.jpg  \n",
            "  inflating: 르라보_상탈/르라보_상탈_9.jpg  \n",
            "   creating: 마르지엘라_커피브레이크/\n",
            "  inflating: 마르지엘라_커피브레이크/마르지엘라_커피브레이크_1.jpg  \n",
            "  inflating: 마르지엘라_커피브레이크/마르지엘라_커피브레이크_10.jpg  \n",
            "  inflating: 마르지엘라_커피브레이크/마르지엘라_커피브레이크_11.jpg  \n",
            "  inflating: 마르지엘라_커피브레이크/마르지엘라_커피브레이크_14.jpg  \n",
            "  inflating: 마르지엘라_커피브레이크/마르지엘라_커피브레이크_15.jpg  \n",
            "  inflating: 마르지엘라_커피브레이크/마르지엘라_커피브레이크_16.jpg  \n",
            "  inflating: 마르지엘라_커피브레이크/마르지엘라_커피브레이크_17.jpg  \n",
            "  inflating: 마르지엘라_커피브레이크/마르지엘라_커피브레이크_18.jpg  \n",
            "  inflating: 마르지엘라_커피브레이크/마르지엘라_커피브레이크_19.jpg  \n",
            "  inflating: 마르지엘라_커피브레이크/마르지엘라_커피브레이크_2.jpg  \n",
            "  inflating: 마르지엘라_커피브레이크/마르지엘라_커피브레이크_20.jpg  \n",
            "  inflating: 마르지엘라_커피브레이크/마르지엘라_커피브레이크_21.jpg  \n",
            "  inflating: 마르지엘라_커피브레이크/마르지엘라_커피브레이크_22.jpg  \n",
            "  inflating: 마르지엘라_커피브레이크/마르지엘라_커피브레이크_23.jpg  \n",
            "  inflating: 마르지엘라_커피브레이크/마르지엘라_커피브레이크_26.jpg  \n",
            "  inflating: 마르지엘라_커피브레이크/마르지엘라_커피브레이크_29.jpg  \n",
            "  inflating: 마르지엘라_커피브레이크/마르지엘라_커피브레이크_3.jpg  \n",
            "  inflating: 마르지엘라_커피브레이크/마르지엘라_커피브레이크_30.jpg  \n",
            "  inflating: 마르지엘라_커피브레이크/마르지엘라_커피브레이크_31.jpg  \n",
            "  inflating: 마르지엘라_커피브레이크/마르지엘라_커피브레이크_32.jpg  \n",
            "  inflating: 마르지엘라_커피브레이크/마르지엘라_커피브레이크_33.jpg  \n",
            "  inflating: 마르지엘라_커피브레이크/마르지엘라_커피브레이크_34.jpg  \n",
            "  inflating: 마르지엘라_커피브레이크/마르지엘라_커피브레이크_35.jpg  \n",
            "  inflating: 마르지엘라_커피브레이크/마르지엘라_커피브레이크_39.jpg  \n",
            "  inflating: 마르지엘라_커피브레이크/마르지엘라_커피브레이크_4.jpg  \n",
            "  inflating: 마르지엘라_커피브레이크/마르지엘라_커피브레이크_40.jpg  \n",
            "  inflating: 마르지엘라_커피브레이크/마르지엘라_커피브레이크_41.jpg  \n",
            "  inflating: 마르지엘라_커피브레이크/마르지엘라_커피브레이크_42.jpg  \n",
            "  inflating: 마르지엘라_커피브레이크/마르지엘라_커피브레이크_44.jpg  \n",
            "  inflating: 마르지엘라_커피브레이크/마르지엘라_커피브레이크_47.jpg  \n",
            "  inflating: 마르지엘라_커피브레이크/마르지엘라_커피브레이크_49.jpg  \n",
            "  inflating: 마르지엘라_커피브레이크/마르지엘라_커피브레이크_5.jpg  \n",
            "  inflating: 마르지엘라_커피브레이크/마르지엘라_커피브레이크_50.jpg  \n",
            "  inflating: 마르지엘라_커피브레이크/마르지엘라_커피브레이크_51.jpg  \n",
            "  inflating: 마르지엘라_커피브레이크/마르지엘라_커피브레이크_53.jpg  \n",
            "  inflating: 마르지엘라_커피브레이크/마르지엘라_커피브레이크_55.jpg  \n",
            "  inflating: 마르지엘라_커피브레이크/마르지엘라_커피브레이크_56.jpg  \n",
            "  inflating: 마르지엘라_커피브레이크/마르지엘라_커피브레이크_57.jpg  \n",
            "  inflating: 마르지엘라_커피브레이크/마르지엘라_커피브레이크_58.jpg  \n",
            "  inflating: 마르지엘라_커피브레이크/마르지엘라_커피브레이크_6.jpg  \n",
            "  inflating: 마르지엘라_커피브레이크/마르지엘라_커피브레이크_60.jpg  \n",
            "  inflating: 마르지엘라_커피브레이크/마르지엘라_커피브레이크_7.jpg  \n",
            "  inflating: 마르지엘라_커피브레이크/마르지엘라_커피브레이크_8.jpg  \n",
            "  inflating: 마르지엘라_커피브레이크/마르지엘라_커피브레이크_9.jpg  \n",
            "   creating: 바이레도_집시워터/\n",
            "  inflating: 바이레도_집시워터/바이레도_집시워터_1.jpg  \n",
            "  inflating: 바이레도_집시워터/바이레도_집시워터_10.jpg  \n",
            "  inflating: 바이레도_집시워터/바이레도_집시워터_11.jpg  \n",
            "  inflating: 바이레도_집시워터/바이레도_집시워터_12.jpg  \n",
            "  inflating: 바이레도_집시워터/바이레도_집시워터_14.jpg  \n",
            "  inflating: 바이레도_집시워터/바이레도_집시워터_16.jpg  \n",
            "  inflating: 바이레도_집시워터/바이레도_집시워터_17.jpg  \n",
            "  inflating: 바이레도_집시워터/바이레도_집시워터_18.jpg  \n",
            "  inflating: 바이레도_집시워터/바이레도_집시워터_19.jpg  \n",
            "  inflating: 바이레도_집시워터/바이레도_집시워터_2.jpg  \n",
            "  inflating: 바이레도_집시워터/바이레도_집시워터_20.jpg  \n",
            "  inflating: 바이레도_집시워터/바이레도_집시워터_21.jpg  \n",
            "  inflating: 바이레도_집시워터/바이레도_집시워터_22.jpg  \n",
            "  inflating: 바이레도_집시워터/바이레도_집시워터_23.jpg  \n",
            "  inflating: 바이레도_집시워터/바이레도_집시워터_25.jpg  \n",
            "  inflating: 바이레도_집시워터/바이레도_집시워터_26.jpg  \n",
            "  inflating: 바이레도_집시워터/바이레도_집시워터_27.jpg  \n",
            "  inflating: 바이레도_집시워터/바이레도_집시워터_29.jpg  \n",
            "  inflating: 바이레도_집시워터/바이레도_집시워터_3.jpg  \n",
            "  inflating: 바이레도_집시워터/바이레도_집시워터_30.jpg  \n",
            "  inflating: 바이레도_집시워터/바이레도_집시워터_31.jpg  \n",
            "  inflating: 바이레도_집시워터/바이레도_집시워터_32.jpg  \n",
            "  inflating: 바이레도_집시워터/바이레도_집시워터_34.jpg  \n",
            "  inflating: 바이레도_집시워터/바이레도_집시워터_35.jpg  \n",
            "  inflating: 바이레도_집시워터/바이레도_집시워터_37.jpg  \n",
            "  inflating: 바이레도_집시워터/바이레도_집시워터_38.jpg  \n",
            "  inflating: 바이레도_집시워터/바이레도_집시워터_4.jpg  \n",
            "  inflating: 바이레도_집시워터/바이레도_집시워터_41.jpg  \n",
            "  inflating: 바이레도_집시워터/바이레도_집시워터_43.jpg  \n",
            "  inflating: 바이레도_집시워터/바이레도_집시워터_44.jpg  \n",
            "  inflating: 바이레도_집시워터/바이레도_집시워터_46.jpg  \n",
            "  inflating: 바이레도_집시워터/바이레도_집시워터_47.jpg  \n",
            "  inflating: 바이레도_집시워터/바이레도_집시워터_48.jpg  \n",
            "  inflating: 바이레도_집시워터/바이레도_집시워터_5.jpg  \n",
            "  inflating: 바이레도_집시워터/바이레도_집시워터_51.jpg  \n",
            "  inflating: 바이레도_집시워터/바이레도_집시워터_52.jpg  \n",
            "  inflating: 바이레도_집시워터/바이레도_집시워터_53.jpg  \n",
            "  inflating: 바이레도_집시워터/바이레도_집시워터_54.jpg  \n",
            "  inflating: 바이레도_집시워터/바이레도_집시워터_55.jpg  \n",
            "  inflating: 바이레도_집시워터/바이레도_집시워터_56.jpg  \n",
            "  inflating: 바이레도_집시워터/바이레도_집시워터_57.jpg  \n",
            "  inflating: 바이레도_집시워터/바이레도_집시워터_58.jpg  \n",
            "  inflating: 바이레도_집시워터/바이레도_집시워터_59.jpg  \n",
            "  inflating: 바이레도_집시워터/바이레도_집시워터_6.jpg  \n",
            "  inflating: 바이레도_집시워터/바이레도_집시워터_60.jpg  \n",
            "  inflating: 바이레도_집시워터/바이레도_집시워터_7.jpg  \n",
            "  inflating: 바이레도_집시워터/바이레도_집시워터_8.jpg  \n",
            "  inflating: 바이레도_집시워터/바이레도_집시워터_9.jpg  \n",
            "   creating: 샤넬_블루드/\n",
            "  inflating: 샤넬_블루드/샤넬_블루드_1.jpg  \n",
            "  inflating: 샤넬_블루드/샤넬_블루드_10.jpg  \n",
            "  inflating: 샤넬_블루드/샤넬_블루드_11.jpg  \n",
            "  inflating: 샤넬_블루드/샤넬_블루드_12.jpg  \n",
            "  inflating: 샤넬_블루드/샤넬_블루드_13.jpg  \n",
            "  inflating: 샤넬_블루드/샤넬_블루드_14.jpg  \n",
            "  inflating: 샤넬_블루드/샤넬_블루드_15.jpg  \n",
            "  inflating: 샤넬_블루드/샤넬_블루드_16.jpg  \n",
            "  inflating: 샤넬_블루드/샤넬_블루드_17.jpg  \n",
            "  inflating: 샤넬_블루드/샤넬_블루드_18.jpg  \n",
            "  inflating: 샤넬_블루드/샤넬_블루드_19.jpg  \n",
            "  inflating: 샤넬_블루드/샤넬_블루드_2.jpg  \n",
            "  inflating: 샤넬_블루드/샤넬_블루드_20.jpg  \n",
            "  inflating: 샤넬_블루드/샤넬_블루드_21.jpg  \n",
            "  inflating: 샤넬_블루드/샤넬_블루드_22.jpg  \n",
            "  inflating: 샤넬_블루드/샤넬_블루드_24.jpg  \n",
            "  inflating: 샤넬_블루드/샤넬_블루드_25.jpg  \n",
            "  inflating: 샤넬_블루드/샤넬_블루드_26.jpg  \n",
            "  inflating: 샤넬_블루드/샤넬_블루드_28.jpg  \n",
            "  inflating: 샤넬_블루드/샤넬_블루드_29.jpg  \n",
            "  inflating: 샤넬_블루드/샤넬_블루드_3.jpg  \n",
            "  inflating: 샤넬_블루드/샤넬_블루드_30.jpg  \n",
            "  inflating: 샤넬_블루드/샤넬_블루드_31.jpg  \n",
            "  inflating: 샤넬_블루드/샤넬_블루드_32.jpg  \n",
            "  inflating: 샤넬_블루드/샤넬_블루드_33.jpg  \n",
            "  inflating: 샤넬_블루드/샤넬_블루드_34.jpg  \n",
            "  inflating: 샤넬_블루드/샤넬_블루드_35.jpg  \n",
            "  inflating: 샤넬_블루드/샤넬_블루드_36.jpg  \n",
            "  inflating: 샤넬_블루드/샤넬_블루드_37.jpg  \n",
            "  inflating: 샤넬_블루드/샤넬_블루드_38.jpg  \n",
            "  inflating: 샤넬_블루드/샤넬_블루드_39.jpg  \n",
            "  inflating: 샤넬_블루드/샤넬_블루드_4.jpg  \n",
            "  inflating: 샤넬_블루드/샤넬_블루드_40.jpg  \n",
            "  inflating: 샤넬_블루드/샤넬_블루드_41.jpg  \n",
            "  inflating: 샤넬_블루드/샤넬_블루드_42.jpg  \n",
            "  inflating: 샤넬_블루드/샤넬_블루드_43.jpg  \n",
            "  inflating: 샤넬_블루드/샤넬_블루드_44.jpg  \n",
            "  inflating: 샤넬_블루드/샤넬_블루드_45.jpg  \n",
            "  inflating: 샤넬_블루드/샤넬_블루드_46.jpg  \n",
            "  inflating: 샤넬_블루드/샤넬_블루드_47.jpg  \n",
            "  inflating: 샤넬_블루드/샤넬_블루드_48.jpg  \n",
            "  inflating: 샤넬_블루드/샤넬_블루드_49.jpg  \n",
            "  inflating: 샤넬_블루드/샤넬_블루드_5.jpg  \n",
            "  inflating: 샤넬_블루드/샤넬_블루드_50.jpg  \n",
            "  inflating: 샤넬_블루드/샤넬_블루드_51.jpg  \n",
            "  inflating: 샤넬_블루드/샤넬_블루드_53.jpg  \n",
            "  inflating: 샤넬_블루드/샤넬_블루드_54.jpg  \n",
            "  inflating: 샤넬_블루드/샤넬_블루드_56.jpg  \n",
            "  inflating: 샤넬_블루드/샤넬_블루드_57.jpg  \n",
            "  inflating: 샤넬_블루드/샤넬_블루드_58.jpg  \n",
            "  inflating: 샤넬_블루드/샤넬_블루드_59.jpg  \n",
            "  inflating: 샤넬_블루드/샤넬_블루드_6.jpg  \n",
            "  inflating: 샤넬_블루드/샤넬_블루드_60.jpg  \n",
            "  inflating: 샤넬_블루드/샤넬_블루드_7.jpg  \n",
            "  inflating: 샤넬_블루드/샤넬_블루드_8.jpg  \n",
            "  inflating: 샤넬_블루드/샤넬_블루드_9.jpg  \n",
            "   creating: 아쿠아디파르마_미르토/\n",
            "  inflating: 아쿠아디파르마_미르토/아쿠아디파르마_미르토_1.jpg  \n",
            "  inflating: 아쿠아디파르마_미르토/아쿠아디파르마_미르토_10.jpg  \n",
            "  inflating: 아쿠아디파르마_미르토/아쿠아디파르마_미르토_11.jpg  \n",
            "  inflating: 아쿠아디파르마_미르토/아쿠아디파르마_미르토_12.jpg  \n",
            "  inflating: 아쿠아디파르마_미르토/아쿠아디파르마_미르토_13.jpg  \n",
            "  inflating: 아쿠아디파르마_미르토/아쿠아디파르마_미르토_15.jpg  \n",
            "  inflating: 아쿠아디파르마_미르토/아쿠아디파르마_미르토_16.jpg  \n",
            "  inflating: 아쿠아디파르마_미르토/아쿠아디파르마_미르토_17.jpg  \n",
            "  inflating: 아쿠아디파르마_미르토/아쿠아디파르마_미르토_18.jpg  \n",
            "  inflating: 아쿠아디파르마_미르토/아쿠아디파르마_미르토_19.jpg  \n",
            "  inflating: 아쿠아디파르마_미르토/아쿠아디파르마_미르토_2.jpg  \n",
            "  inflating: 아쿠아디파르마_미르토/아쿠아디파르마_미르토_20.jpg  \n",
            "  inflating: 아쿠아디파르마_미르토/아쿠아디파르마_미르토_21.jpg  \n",
            "  inflating: 아쿠아디파르마_미르토/아쿠아디파르마_미르토_22.jpg  \n",
            "  inflating: 아쿠아디파르마_미르토/아쿠아디파르마_미르토_23.jpg  \n",
            "  inflating: 아쿠아디파르마_미르토/아쿠아디파르마_미르토_24.jpg  \n",
            "  inflating: 아쿠아디파르마_미르토/아쿠아디파르마_미르토_25.jpg  \n",
            "  inflating: 아쿠아디파르마_미르토/아쿠아디파르마_미르토_26.jpg  \n",
            "  inflating: 아쿠아디파르마_미르토/아쿠아디파르마_미르토_27.jpg  \n",
            "  inflating: 아쿠아디파르마_미르토/아쿠아디파르마_미르토_28.jpg  \n",
            "  inflating: 아쿠아디파르마_미르토/아쿠아디파르마_미르토_29.jpg  \n",
            "  inflating: 아쿠아디파르마_미르토/아쿠아디파르마_미르토_3.jpg  \n",
            "  inflating: 아쿠아디파르마_미르토/아쿠아디파르마_미르토_30.jpg  \n",
            "  inflating: 아쿠아디파르마_미르토/아쿠아디파르마_미르토_31.jpg  \n",
            "  inflating: 아쿠아디파르마_미르토/아쿠아디파르마_미르토_32.jpg  \n",
            "  inflating: 아쿠아디파르마_미르토/아쿠아디파르마_미르토_33.jpg  \n",
            "  inflating: 아쿠아디파르마_미르토/아쿠아디파르마_미르토_34.jpg  \n",
            "  inflating: 아쿠아디파르마_미르토/아쿠아디파르마_미르토_35.jpg  \n",
            "  inflating: 아쿠아디파르마_미르토/아쿠아디파르마_미르토_36.jpg  \n",
            "  inflating: 아쿠아디파르마_미르토/아쿠아디파르마_미르토_37.jpg  \n",
            "  inflating: 아쿠아디파르마_미르토/아쿠아디파르마_미르토_38.jpg  \n",
            "  inflating: 아쿠아디파르마_미르토/아쿠아디파르마_미르토_39.jpg  \n",
            "  inflating: 아쿠아디파르마_미르토/아쿠아디파르마_미르토_4.jpg  \n",
            "  inflating: 아쿠아디파르마_미르토/아쿠아디파르마_미르토_40.jpg  \n",
            "  inflating: 아쿠아디파르마_미르토/아쿠아디파르마_미르토_41.jpg  \n",
            "  inflating: 아쿠아디파르마_미르토/아쿠아디파르마_미르토_42.jpg  \n",
            "  inflating: 아쿠아디파르마_미르토/아쿠아디파르마_미르토_43.jpg  \n",
            "  inflating: 아쿠아디파르마_미르토/아쿠아디파르마_미르토_44.jpg  \n",
            "  inflating: 아쿠아디파르마_미르토/아쿠아디파르마_미르토_45.jpg  \n",
            "  inflating: 아쿠아디파르마_미르토/아쿠아디파르마_미르토_46.jpg  \n",
            "  inflating: 아쿠아디파르마_미르토/아쿠아디파르마_미르토_47.jpg  \n",
            "  inflating: 아쿠아디파르마_미르토/아쿠아디파르마_미르토_48.jpg  \n",
            "  inflating: 아쿠아디파르마_미르토/아쿠아디파르마_미르토_49.jpg  \n",
            "  inflating: 아쿠아디파르마_미르토/아쿠아디파르마_미르토_5.jpg  \n",
            "  inflating: 아쿠아디파르마_미르토/아쿠아디파르마_미르토_50.jpg  \n",
            "  inflating: 아쿠아디파르마_미르토/아쿠아디파르마_미르토_51.jpg  \n",
            "  inflating: 아쿠아디파르마_미르토/아쿠아디파르마_미르토_53.jpg  \n",
            "  inflating: 아쿠아디파르마_미르토/아쿠아디파르마_미르토_54.jpg  \n",
            "  inflating: 아쿠아디파르마_미르토/아쿠아디파르마_미르토_56.jpg  \n",
            "  inflating: 아쿠아디파르마_미르토/아쿠아디파르마_미르토_57.jpg  \n",
            "  inflating: 아쿠아디파르마_미르토/아쿠아디파르마_미르토_58.jpg  \n",
            "  inflating: 아쿠아디파르마_미르토/아쿠아디파르마_미르토_59.jpg  \n",
            "  inflating: 아쿠아디파르마_미르토/아쿠아디파르마_미르토_6.jpg  \n",
            "  inflating: 아쿠아디파르마_미르토/아쿠아디파르마_미르토_60.jpg  \n",
            "  inflating: 아쿠아디파르마_미르토/아쿠아디파르마_미르토_7.jpg  \n",
            "  inflating: 아쿠아디파르마_미르토/아쿠아디파르마_미르토_8.jpg  \n",
            "  inflating: 아쿠아디파르마_미르토/아쿠아디파르마_미르토_9.jpg  \n",
            "   creating: 에르메스_운 자르뎅 수르닐/\n",
            "  inflating: 에르메스_운 자르뎅 수르닐/에르메스_운 자르뎅 수르닐_1.jpg  \n",
            "  inflating: 에르메스_운 자르뎅 수르닐/에르메스_운 자르뎅 수르닐_10.jpg  \n",
            "  inflating: 에르메스_운 자르뎅 수르닐/에르메스_운 자르뎅 수르닐_11.jpg  \n",
            "  inflating: 에르메스_운 자르뎅 수르닐/에르메스_운 자르뎅 수르닐_12.jpg  \n",
            "  inflating: 에르메스_운 자르뎅 수르닐/에르메스_운 자르뎅 수르닐_13.jpg  \n",
            "  inflating: 에르메스_운 자르뎅 수르닐/에르메스_운 자르뎅 수르닐_14.jpg  \n",
            "  inflating: 에르메스_운 자르뎅 수르닐/에르메스_운 자르뎅 수르닐_15.jpg  \n",
            "  inflating: 에르메스_운 자르뎅 수르닐/에르메스_운 자르뎅 수르닐_16.jpg  \n",
            "  inflating: 에르메스_운 자르뎅 수르닐/에르메스_운 자르뎅 수르닐_17.jpg  \n",
            "  inflating: 에르메스_운 자르뎅 수르닐/에르메스_운 자르뎅 수르닐_18.jpg  \n",
            "  inflating: 에르메스_운 자르뎅 수르닐/에르메스_운 자르뎅 수르닐_19.jpg  \n",
            "  inflating: 에르메스_운 자르뎅 수르닐/에르메스_운 자르뎅 수르닐_2.jpg  \n",
            "  inflating: 에르메스_운 자르뎅 수르닐/에르메스_운 자르뎅 수르닐_20.jpg  \n",
            "  inflating: 에르메스_운 자르뎅 수르닐/에르메스_운 자르뎅 수르닐_21.jpg  \n",
            "  inflating: 에르메스_운 자르뎅 수르닐/에르메스_운 자르뎅 수르닐_22.jpg  \n",
            "  inflating: 에르메스_운 자르뎅 수르닐/에르메스_운 자르뎅 수르닐_23.jpg  \n",
            "  inflating: 에르메스_운 자르뎅 수르닐/에르메스_운 자르뎅 수르닐_24.jpg  \n",
            "  inflating: 에르메스_운 자르뎅 수르닐/에르메스_운 자르뎅 수르닐_25.jpg  \n",
            "  inflating: 에르메스_운 자르뎅 수르닐/에르메스_운 자르뎅 수르닐_27.jpg  \n",
            "  inflating: 에르메스_운 자르뎅 수르닐/에르메스_운 자르뎅 수르닐_28.jpg  \n",
            "  inflating: 에르메스_운 자르뎅 수르닐/에르메스_운 자르뎅 수르닐_29.jpg  \n",
            "  inflating: 에르메스_운 자르뎅 수르닐/에르메스_운 자르뎅 수르닐_3.jpg  \n",
            "  inflating: 에르메스_운 자르뎅 수르닐/에르메스_운 자르뎅 수르닐_30.jpg  \n",
            "  inflating: 에르메스_운 자르뎅 수르닐/에르메스_운 자르뎅 수르닐_31.jpg  \n",
            "  inflating: 에르메스_운 자르뎅 수르닐/에르메스_운 자르뎅 수르닐_32.jpg  \n",
            "  inflating: 에르메스_운 자르뎅 수르닐/에르메스_운 자르뎅 수르닐_33.jpg  \n",
            "  inflating: 에르메스_운 자르뎅 수르닐/에르메스_운 자르뎅 수르닐_34.jpg  \n",
            "  inflating: 에르메스_운 자르뎅 수르닐/에르메스_운 자르뎅 수르닐_35.jpg  \n",
            "  inflating: 에르메스_운 자르뎅 수르닐/에르메스_운 자르뎅 수르닐_36.jpg  \n",
            "  inflating: 에르메스_운 자르뎅 수르닐/에르메스_운 자르뎅 수르닐_37.jpg  \n",
            "  inflating: 에르메스_운 자르뎅 수르닐/에르메스_운 자르뎅 수르닐_39.jpg  \n",
            "  inflating: 에르메스_운 자르뎅 수르닐/에르메스_운 자르뎅 수르닐_4.jpg  \n",
            "  inflating: 에르메스_운 자르뎅 수르닐/에르메스_운 자르뎅 수르닐_40.jpg  \n",
            "  inflating: 에르메스_운 자르뎅 수르닐/에르메스_운 자르뎅 수르닐_41.jpg  \n",
            "  inflating: 에르메스_운 자르뎅 수르닐/에르메스_운 자르뎅 수르닐_42.jpg  \n",
            "  inflating: 에르메스_운 자르뎅 수르닐/에르메스_운 자르뎅 수르닐_43.jpg  \n",
            "  inflating: 에르메스_운 자르뎅 수르닐/에르메스_운 자르뎅 수르닐_44.jpg  \n",
            "  inflating: 에르메스_운 자르뎅 수르닐/에르메스_운 자르뎅 수르닐_45.jpg  \n",
            "  inflating: 에르메스_운 자르뎅 수르닐/에르메스_운 자르뎅 수르닐_46.jpg  \n",
            "  inflating: 에르메스_운 자르뎅 수르닐/에르메스_운 자르뎅 수르닐_47.jpg  \n",
            "  inflating: 에르메스_운 자르뎅 수르닐/에르메스_운 자르뎅 수르닐_48.jpg  \n",
            "  inflating: 에르메스_운 자르뎅 수르닐/에르메스_운 자르뎅 수르닐_49.jpg  \n",
            "  inflating: 에르메스_운 자르뎅 수르닐/에르메스_운 자르뎅 수르닐_5.jpg  \n",
            "  inflating: 에르메스_운 자르뎅 수르닐/에르메스_운 자르뎅 수르닐_50.jpg  \n",
            "  inflating: 에르메스_운 자르뎅 수르닐/에르메스_운 자르뎅 수르닐_52.jpg  \n",
            "  inflating: 에르메스_운 자르뎅 수르닐/에르메스_운 자르뎅 수르닐_53.jpg  \n",
            "  inflating: 에르메스_운 자르뎅 수르닐/에르메스_운 자르뎅 수르닐_56.jpg  \n",
            "  inflating: 에르메스_운 자르뎅 수르닐/에르메스_운 자르뎅 수르닐_58.jpg  \n",
            "  inflating: 에르메스_운 자르뎅 수르닐/에르메스_운 자르뎅 수르닐_59.jpg  \n",
            "  inflating: 에르메스_운 자르뎅 수르닐/에르메스_운 자르뎅 수르닐_6.jpg  \n",
            "  inflating: 에르메스_운 자르뎅 수르닐/에르메스_운 자르뎅 수르닐_60.jpg  \n",
            "  inflating: 에르메스_운 자르뎅 수르닐/에르메스_운 자르뎅 수르닐_7.jpg  \n",
            "  inflating: 에르메스_운 자르뎅 수르닐/에르메스_운 자르뎅 수르닐_8.jpg  \n",
            "  inflating: 에르메스_운 자르뎅 수르닐/에르메스_운 자르뎅 수르닐_9.jpg  \n",
            "   creating: 이솝_테싯/\n",
            "  inflating: 이솝_테싯/이솝_테싯_1.jpg  \n",
            "  inflating: 이솝_테싯/이솝_테싯_10.jpg  \n",
            "  inflating: 이솝_테싯/이솝_테싯_11.jpg  \n",
            "  inflating: 이솝_테싯/이솝_테싯_12.jpg  \n",
            "  inflating: 이솝_테싯/이솝_테싯_13.jpg  \n",
            "  inflating: 이솝_테싯/이솝_테싯_14.jpg  \n",
            "  inflating: 이솝_테싯/이솝_테싯_16.jpg  \n",
            "  inflating: 이솝_테싯/이솝_테싯_17.jpg  \n",
            "  inflating: 이솝_테싯/이솝_테싯_18.jpg  \n",
            "  inflating: 이솝_테싯/이솝_테싯_2.jpg  \n",
            "  inflating: 이솝_테싯/이솝_테싯_20.jpg  \n",
            "  inflating: 이솝_테싯/이솝_테싯_21.jpg  \n",
            "  inflating: 이솝_테싯/이솝_테싯_22.jpg  \n",
            "  inflating: 이솝_테싯/이솝_테싯_23.jpg  \n",
            "  inflating: 이솝_테싯/이솝_테싯_24.jpg  \n",
            "  inflating: 이솝_테싯/이솝_테싯_25.jpg  \n",
            "  inflating: 이솝_테싯/이솝_테싯_26.jpg  \n",
            "  inflating: 이솝_테싯/이솝_테싯_27.jpg  \n",
            "  inflating: 이솝_테싯/이솝_테싯_28.jpg  \n",
            "  inflating: 이솝_테싯/이솝_테싯_29.jpg  \n",
            "  inflating: 이솝_테싯/이솝_테싯_3.jpg  \n",
            "  inflating: 이솝_테싯/이솝_테싯_30.jpg  \n",
            "  inflating: 이솝_테싯/이솝_테싯_31.jpg  \n",
            "  inflating: 이솝_테싯/이솝_테싯_32.jpg  \n",
            "  inflating: 이솝_테싯/이솝_테싯_33.jpg  \n",
            "  inflating: 이솝_테싯/이솝_테싯_34.jpg  \n",
            "  inflating: 이솝_테싯/이솝_테싯_35.jpg  \n",
            "  inflating: 이솝_테싯/이솝_테싯_36.jpg  \n",
            "  inflating: 이솝_테싯/이솝_테싯_37.jpg  \n",
            "  inflating: 이솝_테싯/이솝_테싯_38.jpg  \n",
            "  inflating: 이솝_테싯/이솝_테싯_39.jpg  \n",
            "  inflating: 이솝_테싯/이솝_테싯_4.jpg  \n",
            "  inflating: 이솝_테싯/이솝_테싯_40.jpg  \n",
            "  inflating: 이솝_테싯/이솝_테싯_41.jpg  \n",
            "  inflating: 이솝_테싯/이솝_테싯_42.jpg  \n",
            "  inflating: 이솝_테싯/이솝_테싯_43.jpg  \n",
            "  inflating: 이솝_테싯/이솝_테싯_44.jpg  \n",
            "  inflating: 이솝_테싯/이솝_테싯_45.jpg  \n",
            "  inflating: 이솝_테싯/이솝_테싯_46.jpg  \n",
            "  inflating: 이솝_테싯/이솝_테싯_48.jpg  \n",
            "  inflating: 이솝_테싯/이솝_테싯_49.jpg  \n",
            "  inflating: 이솝_테싯/이솝_테싯_5.jpg  \n",
            "  inflating: 이솝_테싯/이솝_테싯_50.jpg  \n",
            "  inflating: 이솝_테싯/이솝_테싯_52.jpg  \n",
            "  inflating: 이솝_테싯/이솝_테싯_54.jpg  \n",
            "  inflating: 이솝_테싯/이솝_테싯_55.jpg  \n",
            "  inflating: 이솝_테싯/이솝_테싯_56.jpg  \n",
            "  inflating: 이솝_테싯/이솝_테싯_57.jpg  \n",
            "  inflating: 이솝_테싯/이솝_테싯_58.jpg  \n",
            "  inflating: 이솝_테싯/이솝_테싯_59.jpg  \n",
            "  inflating: 이솝_테싯/이솝_테싯_6.jpg  \n",
            "  inflating: 이솝_테싯/이솝_테싯_60.jpg  \n",
            "  inflating: 이솝_테싯/이솝_테싯_7.jpg  \n",
            "  inflating: 이솝_테싯/이솝_테싯_8.jpg  \n",
            "  inflating: 이솝_테싯/이솝_테싯_9.jpg  \n",
            "   creating: 조말론_네롤리/\n",
            "  inflating: 조말론_네롤리/조말론_네롤리_1.jpg  \n",
            "  inflating: 조말론_네롤리/조말론_네롤리_10.jpg  \n",
            "  inflating: 조말론_네롤리/조말론_네롤리_12.jpg  \n",
            "  inflating: 조말론_네롤리/조말론_네롤리_13.jpg  \n",
            "  inflating: 조말론_네롤리/조말론_네롤리_14.jpg  \n",
            "  inflating: 조말론_네롤리/조말론_네롤리_15.jpg  \n",
            "  inflating: 조말론_네롤리/조말론_네롤리_16.jpg  \n",
            "  inflating: 조말론_네롤리/조말론_네롤리_17.jpg  \n",
            "  inflating: 조말론_네롤리/조말론_네롤리_19.jpg  \n",
            "  inflating: 조말론_네롤리/조말론_네롤리_2.jpg  \n",
            "  inflating: 조말론_네롤리/조말론_네롤리_20.jpg  \n",
            "  inflating: 조말론_네롤리/조말론_네롤리_21.jpg  \n",
            "  inflating: 조말론_네롤리/조말론_네롤리_22.jpg  \n",
            "  inflating: 조말론_네롤리/조말론_네롤리_23.jpg  \n",
            "  inflating: 조말론_네롤리/조말론_네롤리_24.jpg  \n",
            "  inflating: 조말론_네롤리/조말론_네롤리_25.jpg  \n",
            "  inflating: 조말론_네롤리/조말론_네롤리_26.jpg  \n",
            "  inflating: 조말론_네롤리/조말론_네롤리_27.jpg  \n",
            "  inflating: 조말론_네롤리/조말론_네롤리_28.jpg  \n",
            "  inflating: 조말론_네롤리/조말론_네롤리_29.jpg  \n",
            "  inflating: 조말론_네롤리/조말론_네롤리_3.jpg  \n",
            "  inflating: 조말론_네롤리/조말론_네롤리_30.jpg  \n",
            "  inflating: 조말론_네롤리/조말론_네롤리_31.jpg  \n",
            "  inflating: 조말론_네롤리/조말론_네롤리_32.jpg  \n",
            "  inflating: 조말론_네롤리/조말론_네롤리_33.jpg  \n",
            "  inflating: 조말론_네롤리/조말론_네롤리_34.jpg  \n",
            "  inflating: 조말론_네롤리/조말론_네롤리_35.jpg  \n",
            "  inflating: 조말론_네롤리/조말론_네롤리_36.jpg  \n",
            "  inflating: 조말론_네롤리/조말론_네롤리_38.jpg  \n",
            "  inflating: 조말론_네롤리/조말론_네롤리_39.jpg  \n",
            "  inflating: 조말론_네롤리/조말론_네롤리_4.jpg  \n",
            "  inflating: 조말론_네롤리/조말론_네롤리_40.jpg  \n",
            "  inflating: 조말론_네롤리/조말론_네롤리_41.jpg  \n",
            "  inflating: 조말론_네롤리/조말론_네롤리_42.jpg  \n",
            "  inflating: 조말론_네롤리/조말론_네롤리_43.jpg  \n",
            "  inflating: 조말론_네롤리/조말론_네롤리_44.jpg  \n",
            "  inflating: 조말론_네롤리/조말론_네롤리_45.jpg  \n",
            "  inflating: 조말론_네롤리/조말론_네롤리_46.jpg  \n",
            "  inflating: 조말론_네롤리/조말론_네롤리_47.jpg  \n",
            "  inflating: 조말론_네롤리/조말론_네롤리_48.jpg  \n",
            "  inflating: 조말론_네롤리/조말론_네롤리_49.jpg  \n",
            "  inflating: 조말론_네롤리/조말론_네롤리_5.jpg  \n",
            "  inflating: 조말론_네롤리/조말론_네롤리_50.jpg  \n",
            "  inflating: 조말론_네롤리/조말론_네롤리_51.jpg  \n",
            "  inflating: 조말론_네롤리/조말론_네롤리_52.jpg  \n",
            "  inflating: 조말론_네롤리/조말론_네롤리_53.jpg  \n",
            "  inflating: 조말론_네롤리/조말론_네롤리_54.jpg  \n",
            "  inflating: 조말론_네롤리/조말론_네롤리_55.jpg  \n",
            "  inflating: 조말론_네롤리/조말론_네롤리_56.jpg  \n",
            "  inflating: 조말론_네롤리/조말론_네롤리_57.jpg  \n",
            "  inflating: 조말론_네롤리/조말론_네롤리_58.jpg  \n",
            "  inflating: 조말론_네롤리/조말론_네롤리_6.jpg  \n",
            "  inflating: 조말론_네롤리/조말론_네롤리_60.jpg  \n",
            "  inflating: 조말론_네롤리/조말론_네롤리_7.jpg  \n",
            "  inflating: 조말론_네롤리/조말론_네롤리_8.jpg  \n",
            "  inflating: 조말론_네롤리/조말론_네롤리_9.jpg  \n",
            "   creating: 존바바토스_아티산/\n",
            "  inflating: 존바바토스_아티산/존바바토스_아티산_1.jpg  \n",
            "  inflating: 존바바토스_아티산/존바바토스_아티산_10.jpg  \n",
            "  inflating: 존바바토스_아티산/존바바토스_아티산_12.jpg  \n",
            "  inflating: 존바바토스_아티산/존바바토스_아티산_13.jpg  \n",
            "  inflating: 존바바토스_아티산/존바바토스_아티산_14.jpg  \n",
            "  inflating: 존바바토스_아티산/존바바토스_아티산_15.jpg  \n",
            "  inflating: 존바바토스_아티산/존바바토스_아티산_18.jpg  \n",
            "  inflating: 존바바토스_아티산/존바바토스_아티산_19.jpg  \n",
            "  inflating: 존바바토스_아티산/존바바토스_아티산_2.jpg  \n",
            "  inflating: 존바바토스_아티산/존바바토스_아티산_20.jpg  \n",
            "  inflating: 존바바토스_아티산/존바바토스_아티산_21.jpg  \n",
            "  inflating: 존바바토스_아티산/존바바토스_아티산_23.jpg  \n",
            "  inflating: 존바바토스_아티산/존바바토스_아티산_24.jpg  \n",
            "  inflating: 존바바토스_아티산/존바바토스_아티산_25.jpg  \n",
            "  inflating: 존바바토스_아티산/존바바토스_아티산_26.jpg  \n",
            "  inflating: 존바바토스_아티산/존바바토스_아티산_27.jpg  \n",
            "  inflating: 존바바토스_아티산/존바바토스_아티산_28.jpg  \n",
            "  inflating: 존바바토스_아티산/존바바토스_아티산_29.jpg  \n",
            "  inflating: 존바바토스_아티산/존바바토스_아티산_3.jpg  \n",
            "  inflating: 존바바토스_아티산/존바바토스_아티산_32.jpg  \n",
            "  inflating: 존바바토스_아티산/존바바토스_아티산_35.jpg  \n",
            "  inflating: 존바바토스_아티산/존바바토스_아티산_36.jpg  \n",
            "  inflating: 존바바토스_아티산/존바바토스_아티산_37.jpg  \n",
            "  inflating: 존바바토스_아티산/존바바토스_아티산_39.jpg  \n",
            "  inflating: 존바바토스_아티산/존바바토스_아티산_4.jpg  \n",
            "  inflating: 존바바토스_아티산/존바바토스_아티산_40.jpg  \n",
            "  inflating: 존바바토스_아티산/존바바토스_아티산_41.jpg  \n",
            "  inflating: 존바바토스_아티산/존바바토스_아티산_42.jpg  \n",
            "  inflating: 존바바토스_아티산/존바바토스_아티산_43.jpg  \n",
            "  inflating: 존바바토스_아티산/존바바토스_아티산_44.jpg  \n",
            "  inflating: 존바바토스_아티산/존바바토스_아티산_45.jpg  \n",
            "  inflating: 존바바토스_아티산/존바바토스_아티산_46.jpg  \n",
            "  inflating: 존바바토스_아티산/존바바토스_아티산_47.jpg  \n",
            "  inflating: 존바바토스_아티산/존바바토스_아티산_49.jpg  \n",
            "  inflating: 존바바토스_아티산/존바바토스_아티산_50.jpg  \n",
            "  inflating: 존바바토스_아티산/존바바토스_아티산_51.jpg  \n",
            "  inflating: 존바바토스_아티산/존바바토스_아티산_52.jpg  \n",
            "  inflating: 존바바토스_아티산/존바바토스_아티산_54.jpg  \n",
            "  inflating: 존바바토스_아티산/존바바토스_아티산_55.jpg  \n",
            "  inflating: 존바바토스_아티산/존바바토스_아티산_56.jpg  \n",
            "  inflating: 존바바토스_아티산/존바바토스_아티산_57.jpg  \n",
            "  inflating: 존바바토스_아티산/존바바토스_아티산_7.jpg  \n",
            "  inflating: 존바바토스_아티산/존바바토스_아티산_8.jpg  \n",
            "  inflating: 존바바토스_아티산/존바바토스_아티산_9.jpg  \n",
            "   creating: 크리드_로얄워터/\n",
            "  inflating: 크리드_로얄워터/크리드_로얄워터_1.jpg  \n",
            "  inflating: 크리드_로얄워터/크리드_로얄워터_10.jpg  \n",
            "  inflating: 크리드_로얄워터/크리드_로얄워터_11.jpg  \n",
            "  inflating: 크리드_로얄워터/크리드_로얄워터_12.jpg  \n",
            "  inflating: 크리드_로얄워터/크리드_로얄워터_13.jpg  \n",
            "  inflating: 크리드_로얄워터/크리드_로얄워터_14.jpg  \n",
            "  inflating: 크리드_로얄워터/크리드_로얄워터_15.jpg  \n",
            "  inflating: 크리드_로얄워터/크리드_로얄워터_16.jpg  \n",
            "  inflating: 크리드_로얄워터/크리드_로얄워터_17.jpg  \n",
            "  inflating: 크리드_로얄워터/크리드_로얄워터_18.jpg  \n",
            "  inflating: 크리드_로얄워터/크리드_로얄워터_19.jpg  \n",
            "  inflating: 크리드_로얄워터/크리드_로얄워터_2.jpg  \n",
            "  inflating: 크리드_로얄워터/크리드_로얄워터_20.jpg  \n",
            "  inflating: 크리드_로얄워터/크리드_로얄워터_21.jpg  \n",
            "  inflating: 크리드_로얄워터/크리드_로얄워터_22.jpg  \n",
            "  inflating: 크리드_로얄워터/크리드_로얄워터_25.jpg  \n",
            "  inflating: 크리드_로얄워터/크리드_로얄워터_27.jpg  \n",
            "  inflating: 크리드_로얄워터/크리드_로얄워터_28.jpg  \n",
            "  inflating: 크리드_로얄워터/크리드_로얄워터_29.jpg  \n",
            "  inflating: 크리드_로얄워터/크리드_로얄워터_3.jpg  \n",
            "  inflating: 크리드_로얄워터/크리드_로얄워터_30.jpg  \n",
            "  inflating: 크리드_로얄워터/크리드_로얄워터_31.jpg  \n",
            "  inflating: 크리드_로얄워터/크리드_로얄워터_32.jpg  \n",
            "  inflating: 크리드_로얄워터/크리드_로얄워터_33.jpg  \n",
            "  inflating: 크리드_로얄워터/크리드_로얄워터_34.jpg  \n",
            "  inflating: 크리드_로얄워터/크리드_로얄워터_35.jpg  \n",
            "  inflating: 크리드_로얄워터/크리드_로얄워터_36.jpg  \n",
            "  inflating: 크리드_로얄워터/크리드_로얄워터_37.jpg  \n",
            "  inflating: 크리드_로얄워터/크리드_로얄워터_38.jpg  \n",
            "  inflating: 크리드_로얄워터/크리드_로얄워터_39.jpg  \n",
            "  inflating: 크리드_로얄워터/크리드_로얄워터_4.jpg  \n",
            "  inflating: 크리드_로얄워터/크리드_로얄워터_42.jpg  \n",
            "  inflating: 크리드_로얄워터/크리드_로얄워터_44.jpg  \n",
            "  inflating: 크리드_로얄워터/크리드_로얄워터_45.jpg  \n",
            "  inflating: 크리드_로얄워터/크리드_로얄워터_46.jpg  \n",
            "  inflating: 크리드_로얄워터/크리드_로얄워터_47.jpg  \n",
            "  inflating: 크리드_로얄워터/크리드_로얄워터_49.jpg  \n",
            "  inflating: 크리드_로얄워터/크리드_로얄워터_5.jpg  \n",
            "  inflating: 크리드_로얄워터/크리드_로얄워터_50.jpg  \n",
            "  inflating: 크리드_로얄워터/크리드_로얄워터_51.jpg  \n",
            "  inflating: 크리드_로얄워터/크리드_로얄워터_52.jpg  \n",
            "  inflating: 크리드_로얄워터/크리드_로얄워터_53.jpg  \n",
            "  inflating: 크리드_로얄워터/크리드_로얄워터_55.jpg  \n",
            "  inflating: 크리드_로얄워터/크리드_로얄워터_56.jpg  \n",
            "  inflating: 크리드_로얄워터/크리드_로얄워터_57.jpg  \n",
            "  inflating: 크리드_로얄워터/크리드_로얄워터_58.jpg  \n",
            "  inflating: 크리드_로얄워터/크리드_로얄워터_59.jpg  \n",
            "  inflating: 크리드_로얄워터/크리드_로얄워터_6.jpg  \n",
            "  inflating: 크리드_로얄워터/크리드_로얄워터_60.jpg  \n",
            "  inflating: 크리드_로얄워터/크리드_로얄워터_7.jpg  \n",
            "  inflating: 크리드_로얄워터/크리드_로얄워터_8.jpg  \n",
            "  inflating: 크리드_로얄워터/크리드_로얄워터_9.jpg  \n",
            "   creating: 톰포드_화이트 스웨이드/\n",
            "  inflating: 톰포드_화이트 스웨이드/톰포드_화이트 스웨이드_1.jpg  \n",
            "  inflating: 톰포드_화이트 스웨이드/톰포드_화이트 스웨이드_10.jpg  \n",
            "  inflating: 톰포드_화이트 스웨이드/톰포드_화이트 스웨이드_12.jpg  \n",
            "  inflating: 톰포드_화이트 스웨이드/톰포드_화이트 스웨이드_13.jpg  \n",
            "  inflating: 톰포드_화이트 스웨이드/톰포드_화이트 스웨이드_14.jpg  \n",
            "  inflating: 톰포드_화이트 스웨이드/톰포드_화이트 스웨이드_15.jpg  \n",
            "  inflating: 톰포드_화이트 스웨이드/톰포드_화이트 스웨이드_16.jpg  \n",
            "  inflating: 톰포드_화이트 스웨이드/톰포드_화이트 스웨이드_18.jpg  \n",
            "  inflating: 톰포드_화이트 스웨이드/톰포드_화이트 스웨이드_2.jpg  \n",
            "  inflating: 톰포드_화이트 스웨이드/톰포드_화이트 스웨이드_20.jpg  \n",
            "  inflating: 톰포드_화이트 스웨이드/톰포드_화이트 스웨이드_21.jpg  \n",
            "  inflating: 톰포드_화이트 스웨이드/톰포드_화이트 스웨이드_22.jpg  \n",
            "  inflating: 톰포드_화이트 스웨이드/톰포드_화이트 스웨이드_24.jpg  \n",
            "  inflating: 톰포드_화이트 스웨이드/톰포드_화이트 스웨이드_26.jpg  \n",
            "  inflating: 톰포드_화이트 스웨이드/톰포드_화이트 스웨이드_27.jpg  \n",
            "  inflating: 톰포드_화이트 스웨이드/톰포드_화이트 스웨이드_28.jpg  \n",
            "  inflating: 톰포드_화이트 스웨이드/톰포드_화이트 스웨이드_3.jpg  \n",
            "  inflating: 톰포드_화이트 스웨이드/톰포드_화이트 스웨이드_30.jpg  \n",
            "  inflating: 톰포드_화이트 스웨이드/톰포드_화이트 스웨이드_32.jpg  \n",
            "  inflating: 톰포드_화이트 스웨이드/톰포드_화이트 스웨이드_33.jpg  \n",
            "  inflating: 톰포드_화이트 스웨이드/톰포드_화이트 스웨이드_34.jpg  \n",
            "  inflating: 톰포드_화이트 스웨이드/톰포드_화이트 스웨이드_35.jpg  \n",
            "  inflating: 톰포드_화이트 스웨이드/톰포드_화이트 스웨이드_36.jpg  \n",
            "  inflating: 톰포드_화이트 스웨이드/톰포드_화이트 스웨이드_4.jpg  \n",
            "  inflating: 톰포드_화이트 스웨이드/톰포드_화이트 스웨이드_41.jpg  \n",
            "  inflating: 톰포드_화이트 스웨이드/톰포드_화이트 스웨이드_42.jpg  \n",
            "  inflating: 톰포드_화이트 스웨이드/톰포드_화이트 스웨이드_43.jpg  \n",
            "  inflating: 톰포드_화이트 스웨이드/톰포드_화이트 스웨이드_44.jpg  \n",
            "  inflating: 톰포드_화이트 스웨이드/톰포드_화이트 스웨이드_47.jpg  \n",
            "  inflating: 톰포드_화이트 스웨이드/톰포드_화이트 스웨이드_48.jpg  \n",
            "  inflating: 톰포드_화이트 스웨이드/톰포드_화이트 스웨이드_49.jpg  \n",
            "  inflating: 톰포드_화이트 스웨이드/톰포드_화이트 스웨이드_5.jpg  \n",
            "  inflating: 톰포드_화이트 스웨이드/톰포드_화이트 스웨이드_51.jpg  \n",
            "  inflating: 톰포드_화이트 스웨이드/톰포드_화이트 스웨이드_53.jpg  \n",
            "  inflating: 톰포드_화이트 스웨이드/톰포드_화이트 스웨이드_54.jpg  \n",
            "  inflating: 톰포드_화이트 스웨이드/톰포드_화이트 스웨이드_56.jpg  \n",
            "  inflating: 톰포드_화이트 스웨이드/톰포드_화이트 스웨이드_60.jpg  \n",
            "  inflating: 톰포드_화이트 스웨이드/톰포드_화이트 스웨이드_7.jpg  \n",
            "  inflating: 톰포드_화이트 스웨이드/톰포드_화이트 스웨이드_8.jpg  \n"
          ]
        }
      ],
      "source": [
        "# 향수 압축파일을 향수 폴더에 넣은 뒤 압축을 해제합니다.\n",
        "\n",
        "!unzip 향수_노중복.zip\n",
        "!rm 향수_노중복.zip"
      ]
    },
    {
      "cell_type": "code",
      "source": [
        "folder_name = os.listdir(path2)\n",
        "print(path2)"
      ],
      "metadata": {
        "colab": {
          "base_uri": "https://localhost:8080/"
        },
        "id": "b0pEru2IqNTM",
        "outputId": "19ee1d8a-6dc4-4379-a06b-cc006f51bfac"
      },
      "execution_count": null,
      "outputs": [
        {
          "output_type": "stream",
          "name": "stdout",
          "text": [
            "/content/향수\n"
          ]
        }
      ]
    },
    {
      "cell_type": "code",
      "execution_count": null,
      "metadata": {
        "colab": {
          "base_uri": "https://localhost:8080/"
        },
        "id": "PlvRnA8fU5cr",
        "outputId": "e88413aa-49b0-4061-e240-2630f2cb8b68"
      },
      "outputs": [
        {
          "output_type": "stream",
          "name": "stdout",
          "text": [
            "['르라보_상탈', '마르지엘라_커피브레이크', '샤넬_블루드', '이솝_테싯', '조말론_네롤리', '아쿠아디파르마_미르토', '딥디크_도손', '톰포드_화이트 스웨이드', '존바바토스_아티산', '크리드_로얄워터', '바이레도_집시워터', '에르메스_운 자르뎅 수르닐']\n"
          ]
        }
      ],
      "source": [
        "print(folder_name)"
      ]
    },
    {
      "cell_type": "code",
      "execution_count": null,
      "metadata": {
        "id": "DXJFsS5-W8yr"
      },
      "outputs": [],
      "source": [
        "import tensorflow as tf\n",
        "from tensorflow import keras\n",
        "from sklearn.model_selection import train_test_split\n",
        "import numpy as np\n",
        "from glob import glob\n",
        "from PIL import Image\n",
        "import matplotlib.pyplot as plt\n",
        "\n",
        "#향수 이미지들을 image_datas 에 모두 넣습니다.\n",
        "\n",
        "image_datas = glob(f'{os.getcwd()}/*/*.jpg')\n",
        "class_name = folder_name"
      ]
    },
    {
      "cell_type": "code",
      "execution_count": null,
      "metadata": {
        "colab": {
          "base_uri": "https://localhost:8080/"
        },
        "id": "Ubb5RspcW8oc",
        "outputId": "42895c4a-65bc-4ce5-b39b-65d0f1772e2f"
      },
      "outputs": [
        {
          "output_type": "stream",
          "name": "stdout",
          "text": [
            "['/content/향수/르라보_상탈/르라보_상탈_18.jpg', '/content/향수/르라보_상탈/르라보_상탈_15.jpg', '/content/향수/르라보_상탈/르라보_상탈_23.jpg', '/content/향수/르라보_상탈/르라보_상탈_31.jpg', '/content/향수/르라보_상탈/르라보_상탈_21.jpg', '/content/향수/르라보_상탈/르라보_상탈_16.jpg', '/content/향수/르라보_상탈/르라보_상탈_46.jpg', '/content/향수/르라보_상탈/르라보_상탈_19.jpg', '/content/향수/르라보_상탈/르라보_상탈_35.jpg', '/content/향수/르라보_상탈/르라보_상탈_47.jpg', '/content/향수/르라보_상탈/르라보_상탈_6.jpg', '/content/향수/르라보_상탈/르라보_상탈_1.jpg', '/content/향수/르라보_상탈/르라보_상탈_51.jpg', '/content/향수/르라보_상탈/르라보_상탈_3.jpg', '/content/향수/르라보_상탈/르라보_상탈_30.jpg', '/content/향수/르라보_상탈/르라보_상탈_12.jpg', '/content/향수/르라보_상탈/르라보_상탈_7.jpg', '/content/향수/르라보_상탈/르라보_상탈_60.jpg', '/content/향수/르라보_상탈/르라보_상탈_9.jpg', '/content/향수/르라보_상탈/르라보_상탈_37.jpg', '/content/향수/르라보_상탈/르라보_상탈_32.jpg', '/content/향수/르라보_상탈/르라보_상탈_54.jpg', '/content/향수/르라보_상탈/르라보_상탈_27.jpg', '/content/향수/르라보_상탈/르라보_상탈_39.jpg', '/content/향수/르라보_상탈/르라보_상탈_52.jpg', '/content/향수/르라보_상탈/르라보_상탈_17.jpg', '/content/향수/르라보_상탈/르라보_상탈_25.jpg', '/content/향수/르라보_상탈/르라보_상탈_38.jpg', '/content/향수/르라보_상탈/르라보_상탈_42.jpg', '/content/향수/르라보_상탈/르라보_상탈_13.jpg', '/content/향수/르라보_상탈/르라보_상탈_14.jpg', '/content/향수/르라보_상탈/르라보_상탈_24.jpg', '/content/향수/르라보_상탈/르라보_상탈_10.jpg', '/content/향수/르라보_상탈/르라보_상탈_11.jpg', '/content/향수/르라보_상탈/르라보_상탈_28.jpg', '/content/향수/르라보_상탈/르라보_상탈_20.jpg', '/content/향수/르라보_상탈/르라보_상탈_57.jpg', '/content/향수/르라보_상탈/르라보_상탈_45.jpg', '/content/향수/르라보_상탈/르라보_상탈_26.jpg', '/content/향수/르라보_상탈/르라보_상탈_33.jpg', '/content/향수/르라보_상탈/르라보_상탈_36.jpg', '/content/향수/르라보_상탈/르라보_상탈_56.jpg', '/content/향수/르라보_상탈/르라보_상탈_58.jpg', '/content/향수/르라보_상탈/르라보_상탈_2.jpg', '/content/향수/르라보_상탈/르라보_상탈_8.jpg', '/content/향수/르라보_상탈/르라보_상탈_29.jpg', '/content/향수/르라보_상탈/르라보_상탈_40.jpg', '/content/향수/르라보_상탈/르라보_상탈_5.jpg', '/content/향수/르라보_상탈/르라보_상탈_4.jpg', '/content/향수/르라보_상탈/르라보_상탈_48.jpg', '/content/향수/르라보_상탈/르라보_상탈_53.jpg', '/content/향수/마르지엘라_커피브레이크/마르지엘라_커피브레이크_51.jpg', '/content/향수/마르지엘라_커피브레이크/마르지엘라_커피브레이크_30.jpg', '/content/향수/마르지엘라_커피브레이크/마르지엘라_커피브레이크_29.jpg', '/content/향수/마르지엘라_커피브레이크/마르지엘라_커피브레이크_39.jpg', '/content/향수/마르지엘라_커피브레이크/마르지엘라_커피브레이크_50.jpg', '/content/향수/마르지엘라_커피브레이크/마르지엘라_커피브레이크_40.jpg', '/content/향수/마르지엘라_커피브레이크/마르지엘라_커피브레이크_18.jpg', '/content/향수/마르지엘라_커피브레이크/마르지엘라_커피브레이크_56.jpg', '/content/향수/마르지엘라_커피브레이크/마르지엘라_커피브레이크_55.jpg', '/content/향수/마르지엘라_커피브레이크/마르지엘라_커피브레이크_15.jpg', '/content/향수/마르지엘라_커피브레이크/마르지엘라_커피브레이크_1.jpg', '/content/향수/마르지엘라_커피브레이크/마르지엘라_커피브레이크_5.jpg', '/content/향수/마르지엘라_커피브레이크/마르지엘라_커피브레이크_20.jpg', '/content/향수/마르지엘라_커피브레이크/마르지엘라_커피브레이크_14.jpg', '/content/향수/마르지엘라_커피브레이크/마르지엘라_커피브레이크_16.jpg', '/content/향수/마르지엘라_커피브레이크/마르지엘라_커피브레이크_47.jpg', '/content/향수/마르지엘라_커피브레이크/마르지엘라_커피브레이크_57.jpg', '/content/향수/마르지엘라_커피브레이크/마르지엘라_커피브레이크_10.jpg', '/content/향수/마르지엘라_커피브레이크/마르지엘라_커피브레이크_35.jpg', '/content/향수/마르지엘라_커피브레이크/마르지엘라_커피브레이크_49.jpg', '/content/향수/마르지엘라_커피브레이크/마르지엘라_커피브레이크_60.jpg', '/content/향수/마르지엘라_커피브레이크/마르지엘라_커피브레이크_2.jpg', '/content/향수/마르지엘라_커피브레이크/마르지엘라_커피브레이크_19.jpg', '/content/향수/마르지엘라_커피브레이크/마르지엘라_커피브레이크_32.jpg', '/content/향수/마르지엘라_커피브레이크/마르지엘라_커피브레이크_42.jpg', '/content/향수/마르지엘라_커피브레이크/마르지엘라_커피브레이크_9.jpg', '/content/향수/마르지엘라_커피브레이크/마르지엘라_커피브레이크_7.jpg', '/content/향수/마르지엘라_커피브레이크/마르지엘라_커피브레이크_26.jpg', '/content/향수/마르지엘라_커피브레이크/마르지엘라_커피브레이크_22.jpg', '/content/향수/마르지엘라_커피브레이크/마르지엘라_커피브레이크_23.jpg', '/content/향수/마르지엘라_커피브레이크/마르지엘라_커피브레이크_44.jpg', '/content/향수/마르지엘라_커피브레이크/마르지엘라_커피브레이크_58.jpg', '/content/향수/마르지엘라_커피브레이크/마르지엘라_커피브레이크_3.jpg', '/content/향수/마르지엘라_커피브레이크/마르지엘라_커피브레이크_33.jpg', '/content/향수/마르지엘라_커피브레이크/마르지엘라_커피브레이크_21.jpg', '/content/향수/마르지엘라_커피브레이크/마르지엘라_커피브레이크_53.jpg', '/content/향수/마르지엘라_커피브레이크/마르지엘라_커피브레이크_8.jpg', '/content/향수/마르지엘라_커피브레이크/마르지엘라_커피브레이크_11.jpg', '/content/향수/마르지엘라_커피브레이크/마르지엘라_커피브레이크_4.jpg', '/content/향수/마르지엘라_커피브레이크/마르지엘라_커피브레이크_31.jpg', '/content/향수/마르지엘라_커피브레이크/마르지엘라_커피브레이크_41.jpg', '/content/향수/마르지엘라_커피브레이크/마르지엘라_커피브레이크_6.jpg', '/content/향수/마르지엘라_커피브레이크/마르지엘라_커피브레이크_17.jpg', '/content/향수/마르지엘라_커피브레이크/마르지엘라_커피브레이크_34.jpg', '/content/향수/샤넬_블루드/샤넬_블루드_3.jpg', '/content/향수/샤넬_블루드/샤넬_블루드_54.jpg', '/content/향수/샤넬_블루드/샤넬_블루드_21.jpg', '/content/향수/샤넬_블루드/샤넬_블루드_18.jpg', '/content/향수/샤넬_블루드/샤넬_블루드_7.jpg', '/content/향수/샤넬_블루드/샤넬_블루드_9.jpg', '/content/향수/샤넬_블루드/샤넬_블루드_33.jpg', '/content/향수/샤넬_블루드/샤넬_블루드_6.jpg', '/content/향수/샤넬_블루드/샤넬_블루드_26.jpg', '/content/향수/샤넬_블루드/샤넬_블루드_36.jpg', '/content/향수/샤넬_블루드/샤넬_블루드_40.jpg', '/content/향수/샤넬_블루드/샤넬_블루드_44.jpg', '/content/향수/샤넬_블루드/샤넬_블루드_35.jpg', '/content/향수/샤넬_블루드/샤넬_블루드_32.jpg', '/content/향수/샤넬_블루드/샤넬_블루드_58.jpg', '/content/향수/샤넬_블루드/샤넬_블루드_50.jpg', '/content/향수/샤넬_블루드/샤넬_블루드_57.jpg', '/content/향수/샤넬_블루드/샤넬_블루드_8.jpg', '/content/향수/샤넬_블루드/샤넬_블루드_47.jpg', '/content/향수/샤넬_블루드/샤넬_블루드_59.jpg', '/content/향수/샤넬_블루드/샤넬_블루드_30.jpg', '/content/향수/샤넬_블루드/샤넬_블루드_48.jpg', '/content/향수/샤넬_블루드/샤넬_블루드_5.jpg', '/content/향수/샤넬_블루드/샤넬_블루드_19.jpg', '/content/향수/샤넬_블루드/샤넬_블루드_24.jpg', '/content/향수/샤넬_블루드/샤넬_블루드_42.jpg', '/content/향수/샤넬_블루드/샤넬_블루드_16.jpg', '/content/향수/샤넬_블루드/샤넬_블루드_4.jpg', '/content/향수/샤넬_블루드/샤넬_블루드_53.jpg', '/content/향수/샤넬_블루드/샤넬_블루드_56.jpg', '/content/향수/샤넬_블루드/샤넬_블루드_28.jpg', '/content/향수/샤넬_블루드/샤넬_블루드_38.jpg', '/content/향수/샤넬_블루드/샤넬_블루드_22.jpg', '/content/향수/샤넬_블루드/샤넬_블루드_31.jpg', '/content/향수/샤넬_블루드/샤넬_블루드_10.jpg', '/content/향수/샤넬_블루드/샤넬_블루드_60.jpg', '/content/향수/샤넬_블루드/샤넬_블루드_1.jpg', '/content/향수/샤넬_블루드/샤넬_블루드_46.jpg', '/content/향수/샤넬_블루드/샤넬_블루드_45.jpg', '/content/향수/샤넬_블루드/샤넬_블루드_39.jpg', '/content/향수/샤넬_블루드/샤넬_블루드_25.jpg', '/content/향수/샤넬_블루드/샤넬_블루드_43.jpg', '/content/향수/샤넬_블루드/샤넬_블루드_13.jpg', '/content/향수/샤넬_블루드/샤넬_블루드_49.jpg', '/content/향수/샤넬_블루드/샤넬_블루드_37.jpg', '/content/향수/샤넬_블루드/샤넬_블루드_51.jpg', '/content/향수/샤넬_블루드/샤넬_블루드_14.jpg', '/content/향수/샤넬_블루드/샤넬_블루드_2.jpg', '/content/향수/샤넬_블루드/샤넬_블루드_11.jpg', '/content/향수/샤넬_블루드/샤넬_블루드_20.jpg', '/content/향수/샤넬_블루드/샤넬_블루드_12.jpg', '/content/향수/샤넬_블루드/샤넬_블루드_34.jpg', '/content/향수/샤넬_블루드/샤넬_블루드_29.jpg', '/content/향수/샤넬_블루드/샤넬_블루드_41.jpg', '/content/향수/샤넬_블루드/샤넬_블루드_15.jpg', '/content/향수/샤넬_블루드/샤넬_블루드_17.jpg', '/content/향수/이솝_테싯/이솝_테싯_39.jpg', '/content/향수/이솝_테싯/이솝_테싯_1.jpg', '/content/향수/이솝_테싯/이솝_테싯_22.jpg', '/content/향수/이솝_테싯/이솝_테싯_41.jpg', '/content/향수/이솝_테싯/이솝_테싯_12.jpg', '/content/향수/이솝_테싯/이솝_테싯_25.jpg', '/content/향수/이솝_테싯/이솝_테싯_55.jpg', '/content/향수/이솝_테싯/이솝_테싯_7.jpg', '/content/향수/이솝_테싯/이솝_테싯_34.jpg', '/content/향수/이솝_테싯/이솝_테싯_58.jpg', '/content/향수/이솝_테싯/이솝_테싯_16.jpg', '/content/향수/이솝_테싯/이솝_테싯_13.jpg', '/content/향수/이솝_테싯/이솝_테싯_35.jpg', '/content/향수/이솝_테싯/이솝_테싯_46.jpg', '/content/향수/이솝_테싯/이솝_테싯_42.jpg', '/content/향수/이솝_테싯/이솝_테싯_8.jpg', '/content/향수/이솝_테싯/이솝_테싯_24.jpg', '/content/향수/이솝_테싯/이솝_테싯_49.jpg', '/content/향수/이솝_테싯/이솝_테싯_50.jpg', '/content/향수/이솝_테싯/이솝_테싯_48.jpg', '/content/향수/이솝_테싯/이솝_테싯_56.jpg', '/content/향수/이솝_테싯/이솝_테싯_32.jpg', '/content/향수/이솝_테싯/이솝_테싯_36.jpg', '/content/향수/이솝_테싯/이솝_테싯_10.jpg', '/content/향수/이솝_테싯/이솝_테싯_14.jpg', '/content/향수/이솝_테싯/이솝_테싯_18.jpg', '/content/향수/이솝_테싯/이솝_테싯_23.jpg', '/content/향수/이솝_테싯/이솝_테싯_59.jpg', '/content/향수/이솝_테싯/이솝_테싯_43.jpg', '/content/향수/이솝_테싯/이솝_테싯_21.jpg', '/content/향수/이솝_테싯/이솝_테싯_28.jpg', '/content/향수/이솝_테싯/이솝_테싯_20.jpg', '/content/향수/이솝_테싯/이솝_테싯_33.jpg', '/content/향수/이솝_테싯/이솝_테싯_40.jpg', '/content/향수/이솝_테싯/이솝_테싯_44.jpg', '/content/향수/이솝_테싯/이솝_테싯_31.jpg', '/content/향수/이솝_테싯/이솝_테싯_57.jpg', '/content/향수/이솝_테싯/이솝_테싯_5.jpg', '/content/향수/이솝_테싯/이솝_테싯_52.jpg', '/content/향수/이솝_테싯/이솝_테싯_3.jpg', '/content/향수/이솝_테싯/이솝_테싯_60.jpg', '/content/향수/이솝_테싯/이솝_테싯_29.jpg', '/content/향수/이솝_테싯/이솝_테싯_27.jpg', '/content/향수/이솝_테싯/이솝_테싯_6.jpg', '/content/향수/이솝_테싯/이솝_테싯_26.jpg', '/content/향수/이솝_테싯/이솝_테싯_9.jpg', '/content/향수/이솝_테싯/이솝_테싯_54.jpg', '/content/향수/이솝_테싯/이솝_테싯_11.jpg', '/content/향수/이솝_테싯/이솝_테싯_4.jpg', '/content/향수/이솝_테싯/이솝_테싯_2.jpg', '/content/향수/이솝_테싯/이솝_테싯_38.jpg', '/content/향수/이솝_테싯/이솝_테싯_30.jpg', '/content/향수/이솝_테싯/이솝_테싯_45.jpg', '/content/향수/이솝_테싯/이솝_테싯_37.jpg', '/content/향수/이솝_테싯/이솝_테싯_17.jpg', '/content/향수/조말론_네롤리/조말론_네롤리_51.jpg', '/content/향수/조말론_네롤리/조말론_네롤리_35.jpg', '/content/향수/조말론_네롤리/조말론_네롤리_60.jpg', '/content/향수/조말론_네롤리/조말론_네롤리_5.jpg', '/content/향수/조말론_네롤리/조말론_네롤리_27.jpg', '/content/향수/조말론_네롤리/조말론_네롤리_2.jpg', '/content/향수/조말론_네롤리/조말론_네롤리_29.jpg', '/content/향수/조말론_네롤리/조말론_네롤리_7.jpg', '/content/향수/조말론_네롤리/조말론_네롤리_24.jpg', '/content/향수/조말론_네롤리/조말론_네롤리_32.jpg', '/content/향수/조말론_네롤리/조말론_네롤리_23.jpg', '/content/향수/조말론_네롤리/조말론_네롤리_39.jpg', '/content/향수/조말론_네롤리/조말론_네롤리_10.jpg', '/content/향수/조말론_네롤리/조말론_네롤리_6.jpg', '/content/향수/조말론_네롤리/조말론_네롤리_57.jpg', '/content/향수/조말론_네롤리/조말론_네롤리_4.jpg', '/content/향수/조말론_네롤리/조말론_네롤리_28.jpg', '/content/향수/조말론_네롤리/조말론_네롤리_12.jpg', '/content/향수/조말론_네롤리/조말론_네롤리_13.jpg', '/content/향수/조말론_네롤리/조말론_네롤리_8.jpg', '/content/향수/조말론_네롤리/조말론_네롤리_20.jpg', '/content/향수/조말론_네롤리/조말론_네롤리_19.jpg', '/content/향수/조말론_네롤리/조말론_네롤리_50.jpg', '/content/향수/조말론_네롤리/조말론_네롤리_43.jpg', '/content/향수/조말론_네롤리/조말론_네롤리_21.jpg', '/content/향수/조말론_네롤리/조말론_네롤리_9.jpg', '/content/향수/조말론_네롤리/조말론_네롤리_55.jpg', '/content/향수/조말론_네롤리/조말론_네롤리_44.jpg', '/content/향수/조말론_네롤리/조말론_네롤리_1.jpg', '/content/향수/조말론_네롤리/조말론_네롤리_53.jpg', '/content/향수/조말론_네롤리/조말론_네롤리_34.jpg', '/content/향수/조말론_네롤리/조말론_네롤리_47.jpg', '/content/향수/조말론_네롤리/조말론_네롤리_45.jpg', '/content/향수/조말론_네롤리/조말론_네롤리_33.jpg', '/content/향수/조말론_네롤리/조말론_네롤리_42.jpg', '/content/향수/조말론_네롤리/조말론_네롤리_22.jpg', '/content/향수/조말론_네롤리/조말론_네롤리_15.jpg', '/content/향수/조말론_네롤리/조말론_네롤리_14.jpg', '/content/향수/조말론_네롤리/조말론_네롤리_40.jpg', '/content/향수/조말론_네롤리/조말론_네롤리_26.jpg', '/content/향수/조말론_네롤리/조말론_네롤리_49.jpg', '/content/향수/조말론_네롤리/조말론_네롤리_54.jpg', '/content/향수/조말론_네롤리/조말론_네롤리_25.jpg', '/content/향수/조말론_네롤리/조말론_네롤리_46.jpg', '/content/향수/조말론_네롤리/조말론_네롤리_38.jpg', '/content/향수/조말론_네롤리/조말론_네롤리_58.jpg', '/content/향수/조말론_네롤리/조말론_네롤리_16.jpg', '/content/향수/조말론_네롤리/조말론_네롤리_36.jpg', '/content/향수/조말론_네롤리/조말론_네롤리_41.jpg', '/content/향수/조말론_네롤리/조말론_네롤리_56.jpg', '/content/향수/조말론_네롤리/조말론_네롤리_31.jpg', '/content/향수/조말론_네롤리/조말론_네롤리_48.jpg', '/content/향수/조말론_네롤리/조말론_네롤리_17.jpg', '/content/향수/조말론_네롤리/조말론_네롤리_52.jpg', '/content/향수/조말론_네롤리/조말론_네롤리_30.jpg', '/content/향수/조말론_네롤리/조말론_네롤리_3.jpg', '/content/향수/아쿠아디파르마_미르토/아쿠아디파르마_미르토_20.jpg', '/content/향수/아쿠아디파르마_미르토/아쿠아디파르마_미르토_47.jpg', '/content/향수/아쿠아디파르마_미르토/아쿠아디파르마_미르토_27.jpg', '/content/향수/아쿠아디파르마_미르토/아쿠아디파르마_미르토_8.jpg', '/content/향수/아쿠아디파르마_미르토/아쿠아디파르마_미르토_1.jpg', '/content/향수/아쿠아디파르마_미르토/아쿠아디파르마_미르토_26.jpg', '/content/향수/아쿠아디파르마_미르토/아쿠아디파르마_미르토_12.jpg', '/content/향수/아쿠아디파르마_미르토/아쿠아디파르마_미르토_38.jpg', '/content/향수/아쿠아디파르마_미르토/아쿠아디파르마_미르토_19.jpg', '/content/향수/아쿠아디파르마_미르토/아쿠아디파르마_미르토_45.jpg', '/content/향수/아쿠아디파르마_미르토/아쿠아디파르마_미르토_31.jpg', '/content/향수/아쿠아디파르마_미르토/아쿠아디파르마_미르토_9.jpg', '/content/향수/아쿠아디파르마_미르토/아쿠아디파르마_미르토_11.jpg', '/content/향수/아쿠아디파르마_미르토/아쿠아디파르마_미르토_23.jpg', '/content/향수/아쿠아디파르마_미르토/아쿠아디파르마_미르토_36.jpg', '/content/향수/아쿠아디파르마_미르토/아쿠아디파르마_미르토_7.jpg', '/content/향수/아쿠아디파르마_미르토/아쿠아디파르마_미르토_34.jpg', '/content/향수/아쿠아디파르마_미르토/아쿠아디파르마_미르토_60.jpg', '/content/향수/아쿠아디파르마_미르토/아쿠아디파르마_미르토_43.jpg', '/content/향수/아쿠아디파르마_미르토/아쿠아디파르마_미르토_57.jpg', '/content/향수/아쿠아디파르마_미르토/아쿠아디파르마_미르토_33.jpg', '/content/향수/아쿠아디파르마_미르토/아쿠아디파르마_미르토_35.jpg', '/content/향수/아쿠아디파르마_미르토/아쿠아디파르마_미르토_54.jpg', '/content/향수/아쿠아디파르마_미르토/아쿠아디파르마_미르토_10.jpg', '/content/향수/아쿠아디파르마_미르토/아쿠아디파르마_미르토_15.jpg', '/content/향수/아쿠아디파르마_미르토/아쿠아디파르마_미르토_32.jpg', '/content/향수/아쿠아디파르마_미르토/아쿠아디파르마_미르토_16.jpg', '/content/향수/아쿠아디파르마_미르토/아쿠아디파르마_미르토_21.jpg', '/content/향수/아쿠아디파르마_미르토/아쿠아디파르마_미르토_3.jpg', '/content/향수/아쿠아디파르마_미르토/아쿠아디파르마_미르토_48.jpg', '/content/향수/아쿠아디파르마_미르토/아쿠아디파르마_미르토_56.jpg', '/content/향수/아쿠아디파르마_미르토/아쿠아디파르마_미르토_30.jpg', '/content/향수/아쿠아디파르마_미르토/아쿠아디파르마_미르토_40.jpg', '/content/향수/아쿠아디파르마_미르토/아쿠아디파르마_미르토_39.jpg', '/content/향수/아쿠아디파르마_미르토/아쿠아디파르마_미르토_50.jpg', '/content/향수/아쿠아디파르마_미르토/아쿠아디파르마_미르토_2.jpg', '/content/향수/아쿠아디파르마_미르토/아쿠아디파르마_미르토_37.jpg', '/content/향수/아쿠아디파르마_미르토/아쿠아디파르마_미르토_49.jpg', '/content/향수/아쿠아디파르마_미르토/아쿠아디파르마_미르토_44.jpg', '/content/향수/아쿠아디파르마_미르토/아쿠아디파르마_미르토_42.jpg', '/content/향수/아쿠아디파르마_미르토/아쿠아디파르마_미르토_59.jpg', '/content/향수/아쿠아디파르마_미르토/아쿠아디파르마_미르토_13.jpg', '/content/향수/아쿠아디파르마_미르토/아쿠아디파르마_미르토_29.jpg', '/content/향수/아쿠아디파르마_미르토/아쿠아디파르마_미르토_5.jpg', '/content/향수/아쿠아디파르마_미르토/아쿠아디파르마_미르토_53.jpg', '/content/향수/아쿠아디파르마_미르토/아쿠아디파르마_미르토_6.jpg', '/content/향수/아쿠아디파르마_미르토/아쿠아디파르마_미르토_41.jpg', '/content/향수/아쿠아디파르마_미르토/아쿠아디파르마_미르토_51.jpg', '/content/향수/아쿠아디파르마_미르토/아쿠아디파르마_미르토_18.jpg', '/content/향수/아쿠아디파르마_미르토/아쿠아디파르마_미르토_4.jpg', '/content/향수/아쿠아디파르마_미르토/아쿠아디파르마_미르토_24.jpg', '/content/향수/아쿠아디파르마_미르토/아쿠아디파르마_미르토_17.jpg', '/content/향수/아쿠아디파르마_미르토/아쿠아디파르마_미르토_25.jpg', '/content/향수/아쿠아디파르마_미르토/아쿠아디파르마_미르토_58.jpg', '/content/향수/아쿠아디파르마_미르토/아쿠아디파르마_미르토_46.jpg', '/content/향수/아쿠아디파르마_미르토/아쿠아디파르마_미르토_22.jpg', '/content/향수/아쿠아디파르마_미르토/아쿠아디파르마_미르토_28.jpg', '/content/향수/딥디크_도손/딥디크_도손_33.jpg', '/content/향수/딥디크_도손/딥디크_도손_42.jpg', '/content/향수/딥디크_도손/딥디크_도손_14.jpg', '/content/향수/딥디크_도손/딥디크_도손_5.jpg', '/content/향수/딥디크_도손/딥디크_도손_51.jpg', '/content/향수/딥디크_도손/딥디크_도손_41.jpg', '/content/향수/딥디크_도손/딥디크_도손_8.jpg', '/content/향수/딥디크_도손/딥디크_도손_19.jpg', '/content/향수/딥디크_도손/딥디크_도손_58.jpg', '/content/향수/딥디크_도손/딥디크_도손_3.jpg', '/content/향수/딥디크_도손/딥디크_도손_40.jpg', '/content/향수/딥디크_도손/딥디크_도손_28.jpg', '/content/향수/딥디크_도손/딥디크_도손_43.jpg', '/content/향수/딥디크_도손/딥디크_도손_49.jpg', '/content/향수/딥디크_도손/딥디크_도손_7.jpg', '/content/향수/딥디크_도손/딥디크_도손_34.jpg', '/content/향수/딥디크_도손/딥디크_도손_27.jpg', '/content/향수/딥디크_도손/딥디크_도손_20.jpg', '/content/향수/딥디크_도손/딥디크_도손_47.jpg', '/content/향수/딥디크_도손/딥디크_도손_18.jpg', '/content/향수/딥디크_도손/딥디크_도손_16.jpg', '/content/향수/딥디크_도손/딥디크_도손_46.jpg', '/content/향수/딥디크_도손/딥디크_도손_32.jpg', '/content/향수/딥디크_도손/딥디크_도손_52.jpg', '/content/향수/딥디크_도손/딥디크_도손_23.jpg', '/content/향수/딥디크_도손/딥디크_도손_29.jpg', '/content/향수/딥디크_도손/딥디크_도손_53.jpg', '/content/향수/딥디크_도손/딥디크_도손_44.jpg', '/content/향수/딥디크_도손/딥디크_도손_54.jpg', '/content/향수/딥디크_도손/딥디크_도손_15.jpg', '/content/향수/딥디크_도손/딥디크_도손_50.jpg', '/content/향수/딥디크_도손/딥디크_도손_24.jpg', '/content/향수/딥디크_도손/딥디크_도손_37.jpg', '/content/향수/딥디크_도손/딥디크_도손_31.jpg', '/content/향수/딥디크_도손/딥디크_도손_10.jpg', '/content/향수/딥디크_도손/딥디크_도손_6.jpg', '/content/향수/딥디크_도손/딥디크_도손_13.jpg', '/content/향수/딥디크_도손/딥디크_도손_48.jpg', '/content/향수/딥디크_도손/딥디크_도손_2.jpg', '/content/향수/딥디크_도손/딥디크_도손_21.jpg', '/content/향수/딥디크_도손/딥디크_도손_55.jpg', '/content/향수/딥디크_도손/딥디크_도손_35.jpg', '/content/향수/딥디크_도손/딥디크_도손_39.jpg', '/content/향수/딥디크_도손/딥디크_도손_38.jpg', '/content/향수/딥디크_도손/딥디크_도손_36.jpg', '/content/향수/딥디크_도손/딥디크_도손_30.jpg', '/content/향수/딥디크_도손/딥디크_도손_1.jpg', '/content/향수/딥디크_도손/딥디크_도손_9.jpg', '/content/향수/딥디크_도손/딥디크_도손_45.jpg', '/content/향수/딥디크_도손/딥디크_도손_25.jpg', '/content/향수/딥디크_도손/딥디크_도손_17.jpg', '/content/향수/딥디크_도손/딥디크_도손_4.jpg', '/content/향수/딥디크_도손/딥디크_도손_56.jpg', '/content/향수/딥디크_도손/딥디크_도손_12.jpg', '/content/향수/딥디크_도손/딥디크_도손_59.jpg', '/content/향수/톰포드_화이트 스웨이드/톰포드_화이트 스웨이드_51.jpg', '/content/향수/톰포드_화이트 스웨이드/톰포드_화이트 스웨이드_30.jpg', '/content/향수/톰포드_화이트 스웨이드/톰포드_화이트 스웨이드_33.jpg', '/content/향수/톰포드_화이트 스웨이드/톰포드_화이트 스웨이드_35.jpg', '/content/향수/톰포드_화이트 스웨이드/톰포드_화이트 스웨이드_54.jpg', '/content/향수/톰포드_화이트 스웨이드/톰포드_화이트 스웨이드_26.jpg', '/content/향수/톰포드_화이트 스웨이드/톰포드_화이트 스웨이드_16.jpg', '/content/향수/톰포드_화이트 스웨이드/톰포드_화이트 스웨이드_42.jpg', '/content/향수/톰포드_화이트 스웨이드/톰포드_화이트 스웨이드_1.jpg', '/content/향수/톰포드_화이트 스웨이드/톰포드_화이트 스웨이드_22.jpg', '/content/향수/톰포드_화이트 스웨이드/톰포드_화이트 스웨이드_10.jpg', '/content/향수/톰포드_화이트 스웨이드/톰포드_화이트 스웨이드_5.jpg', '/content/향수/톰포드_화이트 스웨이드/톰포드_화이트 스웨이드_41.jpg', '/content/향수/톰포드_화이트 스웨이드/톰포드_화이트 스웨이드_36.jpg', '/content/향수/톰포드_화이트 스웨이드/톰포드_화이트 스웨이드_32.jpg', '/content/향수/톰포드_화이트 스웨이드/톰포드_화이트 스웨이드_7.jpg', '/content/향수/톰포드_화이트 스웨이드/톰포드_화이트 스웨이드_56.jpg', '/content/향수/톰포드_화이트 스웨이드/톰포드_화이트 스웨이드_14.jpg', '/content/향수/톰포드_화이트 스웨이드/톰포드_화이트 스웨이드_4.jpg', '/content/향수/톰포드_화이트 스웨이드/톰포드_화이트 스웨이드_47.jpg', '/content/향수/톰포드_화이트 스웨이드/톰포드_화이트 스웨이드_53.jpg', '/content/향수/톰포드_화이트 스웨이드/톰포드_화이트 스웨이드_3.jpg', '/content/향수/톰포드_화이트 스웨이드/톰포드_화이트 스웨이드_60.jpg', '/content/향수/톰포드_화이트 스웨이드/톰포드_화이트 스웨이드_43.jpg', '/content/향수/톰포드_화이트 스웨이드/톰포드_화이트 스웨이드_2.jpg', '/content/향수/톰포드_화이트 스웨이드/톰포드_화이트 스웨이드_15.jpg', '/content/향수/톰포드_화이트 스웨이드/톰포드_화이트 스웨이드_18.jpg', '/content/향수/톰포드_화이트 스웨이드/톰포드_화이트 스웨이드_27.jpg', '/content/향수/톰포드_화이트 스웨이드/톰포드_화이트 스웨이드_8.jpg', '/content/향수/톰포드_화이트 스웨이드/톰포드_화이트 스웨이드_44.jpg', '/content/향수/톰포드_화이트 스웨이드/톰포드_화이트 스웨이드_20.jpg', '/content/향수/톰포드_화이트 스웨이드/톰포드_화이트 스웨이드_12.jpg', '/content/향수/톰포드_화이트 스웨이드/톰포드_화이트 스웨이드_49.jpg', '/content/향수/톰포드_화이트 스웨이드/톰포드_화이트 스웨이드_21.jpg', '/content/향수/톰포드_화이트 스웨이드/톰포드_화이트 스웨이드_48.jpg', '/content/향수/톰포드_화이트 스웨이드/톰포드_화이트 스웨이드_24.jpg', '/content/향수/톰포드_화이트 스웨이드/톰포드_화이트 스웨이드_34.jpg', '/content/향수/톰포드_화이트 스웨이드/톰포드_화이트 스웨이드_28.jpg', '/content/향수/톰포드_화이트 스웨이드/톰포드_화이트 스웨이드_13.jpg', '/content/향수/존바바토스_아티산/존바바토스_아티산_47.jpg', '/content/향수/존바바토스_아티산/존바바토스_아티산_41.jpg', '/content/향수/존바바토스_아티산/존바바토스_아티산_42.jpg', '/content/향수/존바바토스_아티산/존바바토스_아티산_1.jpg', '/content/향수/존바바토스_아티산/존바바토스_아티산_9.jpg', '/content/향수/존바바토스_아티산/존바바토스_아티산_24.jpg', '/content/향수/존바바토스_아티산/존바바토스_아티산_40.jpg', '/content/향수/존바바토스_아티산/존바바토스_아티산_19.jpg', '/content/향수/존바바토스_아티산/존바바토스_아티산_56.jpg', '/content/향수/존바바토스_아티산/존바바토스_아티산_36.jpg', '/content/향수/존바바토스_아티산/존바바토스_아티산_13.jpg', '/content/향수/존바바토스_아티산/존바바토스_아티산_10.jpg', '/content/향수/존바바토스_아티산/존바바토스_아티산_49.jpg', '/content/향수/존바바토스_아티산/존바바토스_아티산_35.jpg', '/content/향수/존바바토스_아티산/존바바토스_아티산_3.jpg', '/content/향수/존바바토스_아티산/존바바토스_아티산_15.jpg', '/content/향수/존바바토스_아티산/존바바토스_아티산_46.jpg', '/content/향수/존바바토스_아티산/존바바토스_아티산_45.jpg', '/content/향수/존바바토스_아티산/존바바토스_아티산_52.jpg', '/content/향수/존바바토스_아티산/존바바토스_아티산_39.jpg', '/content/향수/존바바토스_아티산/존바바토스_아티산_8.jpg', '/content/향수/존바바토스_아티산/존바바토스_아티산_51.jpg', '/content/향수/존바바토스_아티산/존바바토스_아티산_25.jpg', '/content/향수/존바바토스_아티산/존바바토스_아티산_4.jpg', '/content/향수/존바바토스_아티산/존바바토스_아티산_23.jpg', '/content/향수/존바바토스_아티산/존바바토스_아티산_14.jpg', '/content/향수/존바바토스_아티산/존바바토스_아티산_27.jpg', '/content/향수/존바바토스_아티산/존바바토스_아티산_50.jpg', '/content/향수/존바바토스_아티산/존바바토스_아티산_54.jpg', '/content/향수/존바바토스_아티산/존바바토스_아티산_7.jpg', '/content/향수/존바바토스_아티산/존바바토스_아티산_26.jpg', '/content/향수/존바바토스_아티산/존바바토스_아티산_37.jpg', '/content/향수/존바바토스_아티산/존바바토스_아티산_21.jpg', '/content/향수/존바바토스_아티산/존바바토스_아티산_32.jpg', '/content/향수/존바바토스_아티산/존바바토스_아티산_44.jpg', '/content/향수/존바바토스_아티산/존바바토스_아티산_28.jpg', '/content/향수/존바바토스_아티산/존바바토스_아티산_2.jpg', '/content/향수/존바바토스_아티산/존바바토스_아티산_29.jpg', '/content/향수/존바바토스_아티산/존바바토스_아티산_55.jpg', '/content/향수/존바바토스_아티산/존바바토스_아티산_18.jpg', '/content/향수/존바바토스_아티산/존바바토스_아티산_57.jpg', '/content/향수/존바바토스_아티산/존바바토스_아티산_12.jpg', '/content/향수/존바바토스_아티산/존바바토스_아티산_43.jpg', '/content/향수/존바바토스_아티산/존바바토스_아티산_20.jpg', '/content/향수/크리드_로얄워터/크리드_로얄워터_35.jpg', '/content/향수/크리드_로얄워터/크리드_로얄워터_59.jpg', '/content/향수/크리드_로얄워터/크리드_로얄워터_20.jpg', '/content/향수/크리드_로얄워터/크리드_로얄워터_57.jpg', '/content/향수/크리드_로얄워터/크리드_로얄워터_55.jpg', '/content/향수/크리드_로얄워터/크리드_로얄워터_15.jpg', '/content/향수/크리드_로얄워터/크리드_로얄워터_45.jpg', '/content/향수/크리드_로얄워터/크리드_로얄워터_47.jpg', '/content/향수/크리드_로얄워터/크리드_로얄워터_8.jpg', '/content/향수/크리드_로얄워터/크리드_로얄워터_7.jpg', '/content/향수/크리드_로얄워터/크리드_로얄워터_50.jpg', '/content/향수/크리드_로얄워터/크리드_로얄워터_29.jpg', '/content/향수/크리드_로얄워터/크리드_로얄워터_1.jpg', '/content/향수/크리드_로얄워터/크리드_로얄워터_39.jpg', '/content/향수/크리드_로얄워터/크리드_로얄워터_31.jpg', '/content/향수/크리드_로얄워터/크리드_로얄워터_22.jpg', '/content/향수/크리드_로얄워터/크리드_로얄워터_13.jpg', '/content/향수/크리드_로얄워터/크리드_로얄워터_9.jpg', '/content/향수/크리드_로얄워터/크리드_로얄워터_52.jpg', '/content/향수/크리드_로얄워터/크리드_로얄워터_42.jpg', '/content/향수/크리드_로얄워터/크리드_로얄워터_3.jpg', '/content/향수/크리드_로얄워터/크리드_로얄워터_16.jpg', '/content/향수/크리드_로얄워터/크리드_로얄워터_10.jpg', '/content/향수/크리드_로얄워터/크리드_로얄워터_11.jpg', '/content/향수/크리드_로얄워터/크리드_로얄워터_58.jpg', '/content/향수/크리드_로얄워터/크리드_로얄워터_12.jpg', '/content/향수/크리드_로얄워터/크리드_로얄워터_6.jpg', '/content/향수/크리드_로얄워터/크리드_로얄워터_27.jpg', '/content/향수/크리드_로얄워터/크리드_로얄워터_38.jpg', '/content/향수/크리드_로얄워터/크리드_로얄워터_51.jpg', '/content/향수/크리드_로얄워터/크리드_로얄워터_18.jpg', '/content/향수/크리드_로얄워터/크리드_로얄워터_4.jpg', '/content/향수/크리드_로얄워터/크리드_로얄워터_49.jpg', '/content/향수/크리드_로얄워터/크리드_로얄워터_2.jpg', '/content/향수/크리드_로얄워터/크리드_로얄워터_53.jpg', '/content/향수/크리드_로얄워터/크리드_로얄워터_60.jpg', '/content/향수/크리드_로얄워터/크리드_로얄워터_44.jpg', '/content/향수/크리드_로얄워터/크리드_로얄워터_32.jpg', '/content/향수/크리드_로얄워터/크리드_로얄워터_34.jpg', '/content/향수/크리드_로얄워터/크리드_로얄워터_28.jpg', '/content/향수/크리드_로얄워터/크리드_로얄워터_36.jpg', '/content/향수/크리드_로얄워터/크리드_로얄워터_17.jpg', '/content/향수/크리드_로얄워터/크리드_로얄워터_19.jpg', '/content/향수/크리드_로얄워터/크리드_로얄워터_56.jpg', '/content/향수/크리드_로얄워터/크리드_로얄워터_37.jpg', '/content/향수/크리드_로얄워터/크리드_로얄워터_33.jpg', '/content/향수/크리드_로얄워터/크리드_로얄워터_5.jpg', '/content/향수/크리드_로얄워터/크리드_로얄워터_25.jpg', '/content/향수/크리드_로얄워터/크리드_로얄워터_46.jpg', '/content/향수/크리드_로얄워터/크리드_로얄워터_21.jpg', '/content/향수/크리드_로얄워터/크리드_로얄워터_14.jpg', '/content/향수/크리드_로얄워터/크리드_로얄워터_30.jpg', '/content/향수/바이레도_집시워터/바이레도_집시워터_34.jpg', '/content/향수/바이레도_집시워터/바이레도_집시워터_51.jpg', '/content/향수/바이레도_집시워터/바이레도_집시워터_27.jpg', '/content/향수/바이레도_집시워터/바이레도_집시워터_30.jpg', '/content/향수/바이레도_집시워터/바이레도_집시워터_26.jpg', '/content/향수/바이레도_집시워터/바이레도_집시워터_48.jpg', '/content/향수/바이레도_집시워터/바이레도_집시워터_11.jpg', '/content/향수/바이레도_집시워터/바이레도_집시워터_9.jpg', '/content/향수/바이레도_집시워터/바이레도_집시워터_1.jpg', '/content/향수/바이레도_집시워터/바이레도_집시워터_38.jpg', '/content/향수/바이레도_집시워터/바이레도_집시워터_4.jpg', '/content/향수/바이레도_집시워터/바이레도_집시워터_37.jpg', '/content/향수/바이레도_집시워터/바이레도_집시워터_52.jpg', '/content/향수/바이레도_집시워터/바이레도_집시워터_57.jpg', '/content/향수/바이레도_집시워터/바이레도_집시워터_43.jpg', '/content/향수/바이레도_집시워터/바이레도_집시워터_54.jpg', '/content/향수/바이레도_집시워터/바이레도_집시워터_7.jpg', '/content/향수/바이레도_집시워터/바이레도_집시워터_31.jpg', '/content/향수/바이레도_집시워터/바이레도_집시워터_3.jpg', '/content/향수/바이레도_집시워터/바이레도_집시워터_5.jpg', '/content/향수/바이레도_집시워터/바이레도_집시워터_60.jpg', '/content/향수/바이레도_집시워터/바이레도_집시워터_46.jpg', '/content/향수/바이레도_집시워터/바이레도_집시워터_59.jpg', '/content/향수/바이레도_집시워터/바이레도_집시워터_56.jpg', '/content/향수/바이레도_집시워터/바이레도_집시워터_16.jpg', '/content/향수/바이레도_집시워터/바이레도_집시워터_29.jpg', '/content/향수/바이레도_집시워터/바이레도_집시워터_23.jpg', '/content/향수/바이레도_집시워터/바이레도_집시워터_14.jpg', '/content/향수/바이레도_집시워터/바이레도_집시워터_12.jpg', '/content/향수/바이레도_집시워터/바이레도_집시워터_53.jpg', '/content/향수/바이레도_집시워터/바이레도_집시워터_47.jpg', '/content/향수/바이레도_집시워터/바이레도_집시워터_20.jpg', '/content/향수/바이레도_집시워터/바이레도_집시워터_25.jpg', '/content/향수/바이레도_집시워터/바이레도_집시워터_17.jpg', '/content/향수/바이레도_집시워터/바이레도_집시워터_41.jpg', '/content/향수/바이레도_집시워터/바이레도_집시워터_44.jpg', '/content/향수/바이레도_집시워터/바이레도_집시워터_35.jpg', '/content/향수/바이레도_집시워터/바이레도_집시워터_6.jpg', '/content/향수/바이레도_집시워터/바이레도_집시워터_22.jpg', '/content/향수/바이레도_집시워터/바이레도_집시워터_32.jpg', '/content/향수/바이레도_집시워터/바이레도_집시워터_10.jpg', '/content/향수/바이레도_집시워터/바이레도_집시워터_21.jpg', '/content/향수/바이레도_집시워터/바이레도_집시워터_8.jpg', '/content/향수/바이레도_집시워터/바이레도_집시워터_2.jpg', '/content/향수/바이레도_집시워터/바이레도_집시워터_19.jpg', '/content/향수/바이레도_집시워터/바이레도_집시워터_18.jpg', '/content/향수/바이레도_집시워터/바이레도_집시워터_55.jpg', '/content/향수/바이레도_집시워터/바이레도_집시워터_58.jpg', '/content/향수/에르메스_운 자르뎅 수르닐/에르메스_운 자르뎅 수르닐_6.jpg', '/content/향수/에르메스_운 자르뎅 수르닐/에르메스_운 자르뎅 수르닐_7.jpg', '/content/향수/에르메스_운 자르뎅 수르닐/에르메스_운 자르뎅 수르닐_45.jpg', '/content/향수/에르메스_운 자르뎅 수르닐/에르메스_운 자르뎅 수르닐_33.jpg', '/content/향수/에르메스_운 자르뎅 수르닐/에르메스_운 자르뎅 수르닐_16.jpg', '/content/향수/에르메스_운 자르뎅 수르닐/에르메스_운 자르뎅 수르닐_22.jpg', '/content/향수/에르메스_운 자르뎅 수르닐/에르메스_운 자르뎅 수르닐_31.jpg', '/content/향수/에르메스_운 자르뎅 수르닐/에르메스_운 자르뎅 수르닐_28.jpg', '/content/향수/에르메스_운 자르뎅 수르닐/에르메스_운 자르뎅 수르닐_17.jpg', '/content/향수/에르메스_운 자르뎅 수르닐/에르메스_운 자르뎅 수르닐_12.jpg', '/content/향수/에르메스_운 자르뎅 수르닐/에르메스_운 자르뎅 수르닐_21.jpg', '/content/향수/에르메스_운 자르뎅 수르닐/에르메스_운 자르뎅 수르닐_35.jpg', '/content/향수/에르메스_운 자르뎅 수르닐/에르메스_운 자르뎅 수르닐_18.jpg', '/content/향수/에르메스_운 자르뎅 수르닐/에르메스_운 자르뎅 수르닐_50.jpg', '/content/향수/에르메스_운 자르뎅 수르닐/에르메스_운 자르뎅 수르닐_48.jpg', '/content/향수/에르메스_운 자르뎅 수르닐/에르메스_운 자르뎅 수르닐_10.jpg', '/content/향수/에르메스_운 자르뎅 수르닐/에르메스_운 자르뎅 수르닐_9.jpg', '/content/향수/에르메스_운 자르뎅 수르닐/에르메스_운 자르뎅 수르닐_3.jpg', '/content/향수/에르메스_운 자르뎅 수르닐/에르메스_운 자르뎅 수르닐_13.jpg', '/content/향수/에르메스_운 자르뎅 수르닐/에르메스_운 자르뎅 수르닐_29.jpg', '/content/향수/에르메스_운 자르뎅 수르닐/에르메스_운 자르뎅 수르닐_39.jpg', '/content/향수/에르메스_운 자르뎅 수르닐/에르메스_운 자르뎅 수르닐_44.jpg', '/content/향수/에르메스_운 자르뎅 수르닐/에르메스_운 자르뎅 수르닐_25.jpg', '/content/향수/에르메스_운 자르뎅 수르닐/에르메스_운 자르뎅 수르닐_60.jpg', '/content/향수/에르메스_운 자르뎅 수르닐/에르메스_운 자르뎅 수르닐_53.jpg', '/content/향수/에르메스_운 자르뎅 수르닐/에르메스_운 자르뎅 수르닐_11.jpg', '/content/향수/에르메스_운 자르뎅 수르닐/에르메스_운 자르뎅 수르닐_19.jpg', '/content/향수/에르메스_운 자르뎅 수르닐/에르메스_운 자르뎅 수르닐_2.jpg', '/content/향수/에르메스_운 자르뎅 수르닐/에르메스_운 자르뎅 수르닐_52.jpg', '/content/향수/에르메스_운 자르뎅 수르닐/에르메스_운 자르뎅 수르닐_8.jpg', '/content/향수/에르메스_운 자르뎅 수르닐/에르메스_운 자르뎅 수르닐_27.jpg', '/content/향수/에르메스_운 자르뎅 수르닐/에르메스_운 자르뎅 수르닐_58.jpg', '/content/향수/에르메스_운 자르뎅 수르닐/에르메스_운 자르뎅 수르닐_40.jpg', '/content/향수/에르메스_운 자르뎅 수르닐/에르메스_운 자르뎅 수르닐_42.jpg', '/content/향수/에르메스_운 자르뎅 수르닐/에르메스_운 자르뎅 수르닐_46.jpg', '/content/향수/에르메스_운 자르뎅 수르닐/에르메스_운 자르뎅 수르닐_43.jpg', '/content/향수/에르메스_운 자르뎅 수르닐/에르메스_운 자르뎅 수르닐_15.jpg', '/content/향수/에르메스_운 자르뎅 수르닐/에르메스_운 자르뎅 수르닐_49.jpg', '/content/향수/에르메스_운 자르뎅 수르닐/에르메스_운 자르뎅 수르닐_23.jpg', '/content/향수/에르메스_운 자르뎅 수르닐/에르메스_운 자르뎅 수르닐_36.jpg', '/content/향수/에르메스_운 자르뎅 수르닐/에르메스_운 자르뎅 수르닐_30.jpg', '/content/향수/에르메스_운 자르뎅 수르닐/에르메스_운 자르뎅 수르닐_41.jpg', '/content/향수/에르메스_운 자르뎅 수르닐/에르메스_운 자르뎅 수르닐_1.jpg', '/content/향수/에르메스_운 자르뎅 수르닐/에르메스_운 자르뎅 수르닐_32.jpg', '/content/향수/에르메스_운 자르뎅 수르닐/에르메스_운 자르뎅 수르닐_24.jpg', '/content/향수/에르메스_운 자르뎅 수르닐/에르메스_운 자르뎅 수르닐_56.jpg', '/content/향수/에르메스_운 자르뎅 수르닐/에르메스_운 자르뎅 수르닐_47.jpg', '/content/향수/에르메스_운 자르뎅 수르닐/에르메스_운 자르뎅 수르닐_14.jpg', '/content/향수/에르메스_운 자르뎅 수르닐/에르메스_운 자르뎅 수르닐_37.jpg', '/content/향수/에르메스_운 자르뎅 수르닐/에르메스_운 자르뎅 수르닐_4.jpg', '/content/향수/에르메스_운 자르뎅 수르닐/에르메스_운 자르뎅 수르닐_34.jpg', '/content/향수/에르메스_운 자르뎅 수르닐/에르메스_운 자르뎅 수르닐_59.jpg', '/content/향수/에르메스_운 자르뎅 수르닐/에르메스_운 자르뎅 수르닐_5.jpg', '/content/향수/에르메스_운 자르뎅 수르닐/에르메스_운 자르뎅 수르닐_20.jpg']\n",
            "611\n"
          ]
        }
      ],
      "source": [
        "print(image_datas)\n",
        "\n",
        "print(len(image_datas)) #총 이미지 개수"
      ]
    },
    {
      "cell_type": "code",
      "execution_count": null,
      "metadata": {
        "id": "fx0sSC67ZO2H"
      },
      "outputs": [],
      "source": [
        "#향수 이미지 파일을 열어서 변환합니다.\n",
        "\n",
        "X = []\n",
        "Y = []\n",
        "for imagename in image_datas:\n",
        "    image = Image.open(imagename).convert('RGB')\n",
        "    image = image.resize((224, 224))\n",
        "    image = np.array(image)\n",
        "    X.append(image)\n",
        "    label = imagename.split('/')[3]\n",
        "    Y.append(label)"
      ]
    },
    {
      "cell_type": "code",
      "execution_count": null,
      "metadata": {
        "colab": {
          "base_uri": "https://localhost:8080/",
          "height": 306
        },
        "id": "pu6GOqcXdy8a",
        "outputId": "3cad09f7-a1d6-485e-9a3c-4b8d754bdcb9"
      },
      "outputs": [
        {
          "output_type": "stream",
          "name": "stdout",
          "text": [
            "611\n",
            "르라보_상탈\n"
          ]
        },
        {
          "output_type": "display_data",
          "data": {
            "text/plain": [
              "<Figure size 432x288 with 1 Axes>"
            ],
            "image/png": "[encoded data removed]"
          },
          "metadata": {
            "needs_background": "light"
          }
        }
      ],
      "source": [
        "#첫번째 향수 보기\n",
        "\n",
        "plt.imshow(X[0])\n",
        "print(len(X))\n",
        "print(Y[0])"
      ]
    },
    {
      "cell_type": "code",
      "execution_count": null,
      "metadata": {
        "colab": {
          "base_uri": "https://localhost:8080/"
        },
        "id": "YoQDoQ01boud",
        "outputId": "69d4ec93-f941-4c2d-932e-77048984d036"
      },
      "outputs": [
        {
          "output_type": "stream",
          "name": "stdout",
          "text": [
            "(611, 224, 224, 3)\n",
            "(611,)\n"
          ]
        }
      ],
      "source": [
        "X = np.array(X)\n",
        "Y = np.array(Y)\n",
        "\n",
        "train_images = X.astype('float32') / 255 #일반화\n",
        "\n",
        "print(X.shape)\n",
        "print(Y.shape)"
      ]
    },
    {
      "cell_type": "code",
      "execution_count": null,
      "metadata": {
        "id": "OEMqWBrAqiIT",
        "colab": {
          "base_uri": "https://localhost:8080/"
        },
        "outputId": "f4173b7f-ece2-4510-d225-9e165f08ed05"
      },
      "outputs": [
        {
          "output_type": "stream",
          "name": "stdout",
          "text": [
            "Model: \"sequential\"\n",
            "_________________________________________________________________\n",
            " Layer (type)                Output Shape              Param #   \n",
            "=================================================================\n",
            " conv2d (Conv2D)             (None, 222, 222, 64)      1792      \n",
            "                                                                 \n",
            " conv2d_1 (Conv2D)           (None, 220, 220, 64)      36928     \n",
            "                                                                 \n",
            " max_pooling2d (MaxPooling2D  (None, 110, 110, 64)     0         \n",
            " )                                                               \n",
            "                                                                 \n",
            " conv2d_2 (Conv2D)           (None, 108, 108, 128)     73856     \n",
            "                                                                 \n",
            " conv2d_3 (Conv2D)           (None, 106, 106, 128)     147584    \n",
            "                                                                 \n",
            " max_pooling2d_1 (MaxPooling  (None, 53, 53, 128)      0         \n",
            " 2D)                                                             \n",
            "                                                                 \n",
            " conv2d_4 (Conv2D)           (None, 51, 51, 256)       295168    \n",
            "                                                                 \n",
            " max_pooling2d_2 (MaxPooling  (None, 25, 25, 256)      0         \n",
            " 2D)                                                             \n",
            "                                                                 \n",
            " flatten (Flatten)           (None, 160000)            0         \n",
            "                                                                 \n",
            " dense (Dense)               (None, 12)                1920012   \n",
            "                                                                 \n",
            "=================================================================\n",
            "Total params: 2,475,340\n",
            "Trainable params: 2,475,340\n",
            "Non-trainable params: 0\n",
            "_________________________________________________________________\n"
          ]
        }
      ],
      "source": [
        "#첫번째 모델\n",
        "\n",
        "from keras import models\n",
        "from keras import layers\n",
        "\n",
        "model = models.Sequential()\n",
        "\n",
        "model.add(layers.Conv2D(filters=64, kernel_size = (3,3), activation=\"relu\", input_shape=(224,224,3)))\n",
        "model.add(layers.Conv2D(filters=64, kernel_size = (3,3), activation=\"relu\"))\n",
        "model.add(layers.MaxPooling2D(pool_size=(2,2)))\n",
        "\n",
        "model.add(layers.Conv2D(filters=128, kernel_size = (3,3), activation=\"relu\"))\n",
        "model.add(layers.Conv2D(filters=128, kernel_size = (3,3), activation=\"relu\"))\n",
        "model.add(layers.MaxPooling2D(pool_size=(2,2)))\n",
        "\n",
        "model.add(layers.Conv2D(filters=256, kernel_size = (3,3), activation=\"relu\"))    \n",
        "model.add(layers.MaxPooling2D(pool_size=(2,2)))\n",
        "\n",
        "model.add(layers.Flatten()) \n",
        "model.add(layers.Dense(len(folder_name),activation=\"softmax\"))\n",
        "\n",
        "model.summary()\n",
        "    \n",
        "model.compile(loss=\"categorical_crossentropy\", optimizer=\"adam\", metrics=[\"accuracy\"])"
      ]
    },
    {
      "cell_type": "code",
      "source": [
        "#두번째 모델\n",
        "\n",
        "from keras import models\n",
        "from keras import layers\n",
        "from keras import optimizers\n",
        "\n",
        "model = models.Sequential()\n",
        "\n",
        "model.add(layers.Conv2D(32, (3, 3), input_shape=(224,224,3)))\n",
        "model.add(layers.Activation('relu'))\n",
        "model.add(layers.MaxPooling2D(pool_size=(2, 2)))\n",
        "\n",
        "model.add(layers.Conv2D(32, (3, 3)))\n",
        "model.add(layers.Activation('relu'))\n",
        "model.add(layers.MaxPooling2D(pool_size=(2, 2)))\n",
        "\n",
        "model.add(layers.Conv2D(64, (3, 3)))\n",
        "model.add(layers.Activation('relu'))\n",
        "model.add(layers.MaxPooling2D(pool_size=(2, 2)))\n",
        "\n",
        "model.add(layers.Flatten()) # Output convert into one dimension layer and will go to Dense layer\n",
        "model.add(layers.Dense(64))\n",
        "model.add(layers.Activation('relu'))\n",
        "model.add(layers.Dropout(0.5))\n",
        "model.add(layers.Dense(len(folder_name)))\n",
        "model.add(layers.Activation('softmax'))\n",
        "\n",
        "model.summary()\n",
        "\n",
        "\n",
        "model.compile(loss='categorical_crossentropy', \n",
        "            optimizer=\"adam\",\n",
        "            metrics=['accuracy'])"
      ],
      "metadata": {
        "colab": {
          "base_uri": "https://localhost:8080/"
        },
        "id": "elt4hH04SWuB",
        "outputId": "7b9b0585-100e-45e9-e3db-ad03ba0b2de0"
      },
      "execution_count": null,
      "outputs": [
        {
          "output_type": "stream",
          "name": "stdout",
          "text": [
            "Model: \"sequential_7\"\n",
            "_________________________________________________________________\n",
            " Layer (type)                Output Shape              Param #   \n",
            "=================================================================\n",
            " conv2d_29 (Conv2D)          (None, 222, 222, 32)      896       \n",
            "                                                                 \n",
            " activation_15 (Activation)  (None, 222, 222, 32)      0         \n",
            "                                                                 \n",
            " max_pooling2d_21 (MaxPoolin  (None, 111, 111, 32)     0         \n",
            " g2D)                                                            \n",
            "                                                                 \n",
            " conv2d_30 (Conv2D)          (None, 109, 109, 32)      9248      \n",
            "                                                                 \n",
            " activation_16 (Activation)  (None, 109, 109, 32)      0         \n",
            "                                                                 \n",
            " max_pooling2d_22 (MaxPoolin  (None, 54, 54, 32)       0         \n",
            " g2D)                                                            \n",
            "                                                                 \n",
            " conv2d_31 (Conv2D)          (None, 52, 52, 64)        18496     \n",
            "                                                                 \n",
            " activation_17 (Activation)  (None, 52, 52, 64)        0         \n",
            "                                                                 \n",
            " max_pooling2d_23 (MaxPoolin  (None, 26, 26, 64)       0         \n",
            " g2D)                                                            \n",
            "                                                                 \n",
            " flatten_7 (Flatten)         (None, 43264)             0         \n",
            "                                                                 \n",
            " dense_10 (Dense)            (None, 64)                2768960   \n",
            "                                                                 \n",
            " activation_18 (Activation)  (None, 64)                0         \n",
            "                                                                 \n",
            " dropout_3 (Dropout)         (None, 64)                0         \n",
            "                                                                 \n",
            " dense_11 (Dense)            (None, 15)                975       \n",
            "                                                                 \n",
            " activation_19 (Activation)  (None, 15)                0         \n",
            "                                                                 \n",
            "=================================================================\n",
            "Total params: 2,798,575\n",
            "Trainable params: 2,798,575\n",
            "Non-trainable params: 0\n",
            "_________________________________________________________________\n"
          ]
        }
      ]
    },
    {
      "cell_type": "code",
      "source": [
        "#세번째 모델\n",
        "\n",
        "import os, glob, numpy as np\n",
        "from keras.models import Sequential\n",
        "from keras.layers import Conv2D, MaxPooling2D, Dense, Flatten, Dropout\n",
        "from keras.callbacks import EarlyStopping, ModelCheckpoint\n",
        "import matplotlib.pyplot as plt\n",
        "\n",
        "model = Sequential()\n",
        "model.add(Conv2D(32, (3,3), padding=\"same\", input_shape=(224,224,3), activation='relu'))\n",
        "model.add(MaxPooling2D(pool_size=(2,2)))\n",
        "model.add(Dropout(0.25))\n",
        "    \n",
        "model.add(Conv2D(64, (3,3), padding=\"same\", activation='relu'))\n",
        "model.add(MaxPooling2D(pool_size=(2,2)))\n",
        "model.add(Dropout(0.25))\n",
        "    \n",
        "model.add(Flatten())\n",
        "model.add(Dense(256, activation='relu'))\n",
        "model.add(Dropout(0.5))\n",
        "model.add(Dense(len(folder_name), activation='softmax'))\n",
        "\n",
        "model.summary()\n",
        "\n",
        "model.compile(loss='categorical_crossentropy', optimizer='adam', metrics=['accuracy'])"
      ],
      "metadata": {
        "colab": {
          "base_uri": "https://localhost:8080/"
        },
        "id": "zTNkafxST_4Y",
        "outputId": "1133283a-20b7-4996-e952-cdb217ff2ba5"
      },
      "execution_count": null,
      "outputs": [
        {
          "output_type": "stream",
          "name": "stdout",
          "text": [
            "Model: \"sequential_1\"\n",
            "_________________________________________________________________\n",
            " Layer (type)                Output Shape              Param #   \n",
            "=================================================================\n",
            " conv2d_5 (Conv2D)           (None, 224, 224, 32)      896       \n",
            "                                                                 \n",
            " max_pooling2d_3 (MaxPooling  (None, 112, 112, 32)     0         \n",
            " 2D)                                                             \n",
            "                                                                 \n",
            " dropout (Dropout)           (None, 112, 112, 32)      0         \n",
            "                                                                 \n",
            " conv2d_6 (Conv2D)           (None, 112, 112, 64)      18496     \n",
            "                                                                 \n",
            " max_pooling2d_4 (MaxPooling  (None, 56, 56, 64)       0         \n",
            " 2D)                                                             \n",
            "                                                                 \n",
            " dropout_1 (Dropout)         (None, 56, 56, 64)        0         \n",
            "                                                                 \n",
            " flatten_1 (Flatten)         (None, 200704)            0         \n",
            "                                                                 \n",
            " dense_1 (Dense)             (None, 256)               51380480  \n",
            "                                                                 \n",
            " dropout_2 (Dropout)         (None, 256)               0         \n",
            "                                                                 \n",
            " dense_2 (Dense)             (None, 12)                3084      \n",
            "                                                                 \n",
            "=================================================================\n",
            "Total params: 51,402,956\n",
            "Trainable params: 51,402,956\n",
            "Non-trainable params: 0\n",
            "_________________________________________________________________\n"
          ]
        }
      ]
    },
    {
      "cell_type": "code",
      "execution_count": null,
      "metadata": {
        "colab": {
          "base_uri": "https://localhost:8080/"
        },
        "id": "yjov4jG4yx4P",
        "outputId": "fb420f4e-249b-4d95-f985-fd0d70757bc0"
      },
      "outputs": [
        {
          "output_type": "stream",
          "name": "stdout",
          "text": [
            "51 44 56 55 56 57 55 39 44 52 48 54 \n",
            "611\n",
            "[0, 0, 0, 0, 0, 0, 0, 0, 0, 0, 0, 0, 0, 0, 0, 0, 0, 0, 0, 0, 0, 0, 0, 0, 0, 0, 0, 0, 0, 0, 0, 0, 0, 0, 0, 0, 0, 0, 0, 0, 0, 0, 0, 0, 0, 0, 0, 0, 0, 0, 0, 1, 1, 1, 1, 1, 1, 1, 1, 1, 1, 1, 1, 1, 1, 1, 1, 1, 1, 1, 1, 1, 1, 1, 1, 1, 1, 1, 1, 1, 1, 1, 1, 1, 1, 1, 1, 1, 1, 1, 1, 1, 1, 1, 1, 2, 2, 2, 2, 2, 2, 2, 2, 2, 2, 2, 2, 2, 2, 2, 2, 2, 2, 2, 2, 2, 2, 2, 2, 2, 2, 2, 2, 2, 2, 2, 2, 2, 2, 2, 2, 2, 2, 2, 2, 2, 2, 2, 2, 2, 2, 2, 2, 2, 2, 2, 2, 2, 2, 2, 2, 3, 3, 3, 3, 3, 3, 3, 3, 3, 3, 3, 3, 3, 3, 3, 3, 3, 3, 3, 3, 3, 3, 3, 3, 3, 3, 3, 3, 3, 3, 3, 3, 3, 3, 3, 3, 3, 3, 3, 3, 3, 3, 3, 3, 3, 3, 3, 3, 3, 3, 3, 3, 3, 3, 3, 4, 4, 4, 4, 4, 4, 4, 4, 4, 4, 4, 4, 4, 4, 4, 4, 4, 4, 4, 4, 4, 4, 4, 4, 4, 4, 4, 4, 4, 4, 4, 4, 4, 4, 4, 4, 4, 4, 4, 4, 4, 4, 4, 4, 4, 4, 4, 4, 4, 4, 4, 4, 4, 4, 4, 4, 5, 5, 5, 5, 5, 5, 5, 5, 5, 5, 5, 5, 5, 5, 5, 5, 5, 5, 5, 5, 5, 5, 5, 5, 5, 5, 5, 5, 5, 5, 5, 5, 5, 5, 5, 5, 5, 5, 5, 5, 5, 5, 5, 5, 5, 5, 5, 5, 5, 5, 5, 5, 5, 5, 5, 5, 5, 6, 6, 6, 6, 6, 6, 6, 6, 6, 6, 6, 6, 6, 6, 6, 6, 6, 6, 6, 6, 6, 6, 6, 6, 6, 6, 6, 6, 6, 6, 6, 6, 6, 6, 6, 6, 6, 6, 6, 6, 6, 6, 6, 6, 6, 6, 6, 6, 6, 6, 6, 6, 6, 6, 6, 7, 7, 7, 7, 7, 7, 7, 7, 7, 7, 7, 7, 7, 7, 7, 7, 7, 7, 7, 7, 7, 7, 7, 7, 7, 7, 7, 7, 7, 7, 7, 7, 7, 7, 7, 7, 7, 7, 7, 8, 8, 8, 8, 8, 8, 8, 8, 8, 8, 8, 8, 8, 8, 8, 8, 8, 8, 8, 8, 8, 8, 8, 8, 8, 8, 8, 8, 8, 8, 8, 8, 8, 8, 8, 8, 8, 8, 8, 8, 8, 8, 8, 8, 9, 9, 9, 9, 9, 9, 9, 9, 9, 9, 9, 9, 9, 9, 9, 9, 9, 9, 9, 9, 9, 9, 9, 9, 9, 9, 9, 9, 9, 9, 9, 9, 9, 9, 9, 9, 9, 9, 9, 9, 9, 9, 9, 9, 9, 9, 9, 9, 9, 9, 9, 9, 10, 10, 10, 10, 10, 10, 10, 10, 10, 10, 10, 10, 10, 10, 10, 10, 10, 10, 10, 10, 10, 10, 10, 10, 10, 10, 10, 10, 10, 10, 10, 10, 10, 10, 10, 10, 10, 10, 10, 10, 10, 10, 10, 10, 10, 10, 10, 10, 11, 11, 11, 11, 11, 11, 11, 11, 11, 11, 11, 11, 11, 11, 11, 11, 11, 11, 11, 11, 11, 11, 11, 11, 11, 11, 11, 11, 11, 11, 11, 11, 11, 11, 11, 11, 11, 11, 11, 11, 11, 11, 11, 11, 11, 11, 11, 11, 11, 11, 11, 11, 11, 11]\n"
          ]
        }
      ],
      "source": [
        "#라벨을 숫자로 변환\n",
        "\n",
        "train_labels = [0]\n",
        "\n",
        "count = 0\n",
        "for i in range(1, len(Y)):\n",
        "  if Y[i] == Y[i-1]:\n",
        "    train_labels.append(count)\n",
        "  else:\n",
        "    count += 1\n",
        "    train_labels.append(count)\n",
        "  \n",
        "for i in range(len(folder_name)):\n",
        "  print(train_labels.count(i), end = \" \")\n",
        "print()\n",
        "\n",
        "print(len(train_labels))\n",
        "print(train_labels)"
      ]
    },
    {
      "cell_type": "code",
      "execution_count": null,
      "metadata": {
        "colab": {
          "base_uri": "https://localhost:8080/"
        },
        "id": "MQnvK4oK1qNz",
        "outputId": "9933b949-925a-44e7-ce27-603e73edc55e"
      },
      "outputs": [
        {
          "output_type": "stream",
          "name": "stdout",
          "text": [
            "[[1. 0. 0. ... 0. 0. 0.]\n",
            " [1. 0. 0. ... 0. 0. 0.]\n",
            " [1. 0. 0. ... 0. 0. 0.]\n",
            " ...\n",
            " [0. 0. 0. ... 0. 0. 1.]\n",
            " [0. 0. 0. ... 0. 0. 1.]\n",
            " [0. 0. 0. ... 0. 0. 1.]]\n",
            "611\n"
          ]
        }
      ],
      "source": [
        "#ont-hot 인코딩\n",
        "\n",
        "from tensorflow.keras.utils import to_categorical\n",
        "\n",
        "train_labels = to_categorical(train_labels)\n",
        "print(train_labels)\n",
        "print(len(train_labels))"
      ]
    },
    {
      "cell_type": "code",
      "source": [
        "#(선택1) 테스트 데이터 나누기\n",
        "\n",
        "X_train, X_test, y_train, y_test = train_test_split(X, train_labels)\n",
        "\n",
        "X_train = X_train.astype(float) / 255\n",
        "X_test = X_test.astype(float) / 255"
      ],
      "metadata": {
        "id": "3uPyj1lM3Vfa"
      },
      "execution_count": null,
      "outputs": []
    },
    {
      "cell_type": "code",
      "source": [
        "print(len(X_train))"
      ],
      "metadata": {
        "colab": {
          "base_uri": "https://localhost:8080/"
        },
        "id": "FpRqVIUO3mJV",
        "outputId": "d27b2d1e-ca49-4cc8-dc5e-78b7232ca6fb"
      },
      "execution_count": null,
      "outputs": [
        {
          "output_type": "stream",
          "name": "stdout",
          "text": [
            "458\n"
          ]
        }
      ]
    },
    {
      "cell_type": "code",
      "execution_count": null,
      "metadata": {
        "colab": {
          "base_uri": "https://localhost:8080/"
        },
        "id": "7uY_sS6ct8Og",
        "outputId": "276232dd-5090-4550-99fe-9b3ff8885c1b"
      },
      "outputs": [
        {
          "output_type": "stream",
          "name": "stdout",
          "text": [
            "Epoch 1/10\n",
            "15/15 [==============================] - 6s 369ms/step - loss: 2.3515 - accuracy: 0.1812\n",
            "Epoch 2/10\n",
            "15/15 [==============================] - 5s 358ms/step - loss: 2.2538 - accuracy: 0.2314\n",
            "Epoch 3/10\n",
            "15/15 [==============================] - 6s 381ms/step - loss: 2.2335 - accuracy: 0.2424\n",
            "Epoch 4/10\n",
            "15/15 [==============================] - 6s 365ms/step - loss: 2.1529 - accuracy: 0.2576\n",
            "Epoch 5/10\n",
            "15/15 [==============================] - 6s 361ms/step - loss: 2.0572 - accuracy: 0.2773\n",
            "Epoch 6/10\n",
            "15/15 [==============================] - 6s 360ms/step - loss: 2.0039 - accuracy: 0.3384\n",
            "Epoch 7/10\n",
            "15/15 [==============================] - 6s 364ms/step - loss: 1.9105 - accuracy: 0.3231\n",
            "Epoch 8/10\n",
            "15/15 [==============================] - 6s 361ms/step - loss: 1.9101 - accuracy: 0.3210\n",
            "Epoch 9/10\n",
            "15/15 [==============================] - 5s 357ms/step - loss: 1.8993 - accuracy: 0.3603\n",
            "Epoch 10/10\n",
            "15/15 [==============================] - 8s 509ms/step - loss: 1.7713 - accuracy: 0.4017\n"
          ]
        },
        {
          "output_type": "execute_result",
          "data": {
            "text/plain": [
              "<keras.callbacks.History at 0x7f8d3657c1d0>"
            ]
          },
          "metadata": {},
          "execution_count": 45
        }
      ],
      "source": [
        "#모델 돌리기\n",
        "\n",
        "from keras.preprocessing.image import ImageDataGenerator\n",
        "\n",
        "datagen = ImageDataGenerator(   \n",
        "    rotation_range=10,\n",
        "    width_shift_range=0.1,\n",
        "    height_shift_range=0.1,\n",
        "    horizontal_flip=False,\n",
        "    vertical_flip=False)\n",
        "\n",
        "train_gen = datagen.flow(X_train, y_train, batch_size=32)\n",
        "\n",
        "model.fit(train_gen, epochs=10)"
      ]
    },
    {
      "cell_type": "code",
      "source": [
        "#테스트 데이터 측정\n",
        "\n",
        "model.evaluate(X_test, y_test)"
      ],
      "metadata": {
        "colab": {
          "base_uri": "https://localhost:8080/"
        },
        "id": "oRimjzWo4blp",
        "outputId": "856a8064-1888-40e4-8f9b-16522f470097"
      },
      "execution_count": null,
      "outputs": [
        {
          "output_type": "stream",
          "name": "stdout",
          "text": [
            "5/5 [==============================] - 1s 105ms/step - loss: 2.2380 - accuracy: 0.2941\n"
          ]
        },
        {
          "output_type": "execute_result",
          "data": {
            "text/plain": [
              "[2.238048791885376, 0.29411765933036804]"
            ]
          },
          "metadata": {},
          "execution_count": 46
        }
      ]
    },
    {
      "cell_type": "code",
      "source": [
        "#테스트 이미지를 넣기 위해 기존 폴더로 이동\n",
        "\n",
        "os.chdir('/content')"
      ],
      "metadata": {
        "id": "ENeNz08bDhBc"
      },
      "execution_count": null,
      "outputs": []
    },
    {
      "cell_type": "code",
      "source": [
        "#테스트 이미지 넣기\n",
        "\n",
        "test1 = Image.open('/content/테스트3.jpg').convert('RGB')\n",
        "test1 = test1.resize((224, 224))\n",
        "test1 = np.array(test1)\n",
        "test1 = test1.reshape(1,224,224,3)\n",
        "\n",
        "\n",
        "print(test1.shape)"
      ],
      "metadata": {
        "colab": {
          "base_uri": "https://localhost:8080/"
        },
        "id": "aaU7clcgDxnQ",
        "outputId": "2ef4fd0d-4a38-4b53-8c3e-acf9844a6b4d"
      },
      "execution_count": null,
      "outputs": [
        {
          "output_type": "stream",
          "name": "stdout",
          "text": [
            "(1, 224, 224, 3)\n"
          ]
        }
      ]
    },
    {
      "cell_type": "code",
      "source": [
        "#모델 돌리기\n",
        "\n",
        "ans1 = model.predict(test1)\n",
        "print(folder_name)\n",
        "\n",
        "print(model.predict(test1))"
      ],
      "metadata": {
        "colab": {
          "base_uri": "https://localhost:8080/"
        },
        "id": "AgKrESZpDL4v",
        "outputId": "fbe2a3fa-b884-484d-eb8b-2ec4dca9ef36"
      },
      "execution_count": null,
      "outputs": [
        {
          "output_type": "stream",
          "name": "stdout",
          "text": [
            "['르라보_상탈', '마르지엘라_커피브레이크', '샤넬_블루드', '이솝_테싯', '조말론_네롤리', '아쿠아디파르마_미르토', '딥디크_도손', '톰포드_화이트 스웨이드', '존바바토스_아티산', '크리드_로얄워터', '바이레도_집시워터', '에르메스_운 자르뎅 수르닐']\n",
            "[[0. 0. 0. 0. 0. 0. 0. 0. 1. 0. 0. 0.]]\n"
          ]
        }
      ]
    },
    {
      "cell_type": "code",
      "source": [
        "#정확도 상위 3개와 정확도 출력\n",
        "\n",
        "ans1 = model.predict(test1)\n",
        "print(folder_name)\n",
        "\n",
        "print(model.predict(test1))\n",
        "preds = model.predict(test1)\n",
        "p = np.argsort(preds, axis=1)\n",
        "print(np.flip(p))\n",
        "p1 = np.flip((p))\n",
        "print(type(p))\n",
        "\n",
        "for i in range(3):\n",
        "  print(folder_name[int(p1[0][i])])"
      ],
      "metadata": {
        "colab": {
          "base_uri": "https://localhost:8080/"
        },
        "id": "jyNVLGP7Rijp",
        "outputId": "e1796986-9f5e-4b8a-f963-ea0208f8a27e"
      },
      "execution_count": null,
      "outputs": [
        {
          "output_type": "stream",
          "name": "stdout",
          "text": [
            "['르라보_상탈', '마르지엘라_커피브레이크', '샤넬_블루드', '이솝_테싯', '조말론_네롤리', '아쿠아디파르마_미르토', '딥디크_도손', '톰포드_화이트 스웨이드', '존바바토스_아티산', '크리드_로얄워터', '바이레도_집시워터', '에르메스_운 자르뎅 수르닐']\n",
            "[[0. 0. 0. 0. 0. 0. 0. 0. 1. 0. 0. 0.]]\n",
            "[[ 8 11 10  9  7  6  5  4  3  2  1  0]]\n",
            "<class 'numpy.ndarray'>\n",
            "존바바토스_아티산\n",
            "에르메스_운 자르뎅 수르닐\n",
            "바이레도_집시워터\n"
          ]
        }
      ]
    },
    {
      "cell_type": "code",
      "source": [
        "model.save(\"test_model\")"
      ],
      "metadata": {
        "id": "ZvKO85xvYoka"
      },
      "execution_count": null,
      "outputs": []
    }
  ],
  "metadata": {
    "accelerator": "GPU",
    "colab": {
      "name": "cnn test(테스트데이터나눈것).ipynb",
      "provenance": [],
      "collapsed_sections": []
    },
    "kernelspec": {
      "display_name": "Python 3",
      "name": "python3"
    },
    "language_info": {
      "name": "python"
    }
  },
  "nbformat": 4,
  "nbformat_minor": 0
}